{
  "cells": [
    {
      "cell_type": "markdown",
      "id": "4gpeaiZZCs1N",
      "metadata": {
        "id": "4gpeaiZZCs1N"
      },
      "source": [
        "## Detection of Ransomware in Bitcoin Heist Transaction"
      ]
    },
    {
      "cell_type": "code",
      "execution_count": 8,
      "id": "7f9a8dc6",
      "metadata": {
        "id": "7f9a8dc6"
      },
      "outputs": [],
      "source": [
        "import pandas as pd\n",
        "import numpy as np\n",
        "import matplotlib.pyplot as plt\n",
        "import seaborn as sns\n",
        "import keras\n",
        "from sklearn.preprocessing import StandardScaler\n",
        "from sklearn.model_selection import train_test_split\n",
        "from sklearn.metrics import confusion_matrix\n",
        "from sklearn.metrics import classification_report\n",
        "from sklearn.metrics import roc_auc_score\n",
        "from sklearn.metrics import roc_curve\n",
        "sns.set_style(\"darkgrid\")\n",
        "%matplotlib inline\n",
        "import warnings\n",
        "warnings.filterwarnings('ignore')"
      ]
    },
    {
      "cell_type": "code",
      "execution_count": 2,
      "id": "ujIoxklzEait",
      "metadata": {
        "colab": {
          "base_uri": "https://localhost:8080/"
        },
        "id": "ujIoxklzEait",
        "outputId": "e3b5c439-ed37-46ee-a6ea-ec319e412f78"
      },
      "outputs": [
        {
          "name": "stdout",
          "output_type": "stream",
          "text": [
            "Mounted at /content/drive\n"
          ]
        }
      ],
      "source": [
        "from google.colab import drive\n",
        "drive.mount('/content/drive')"
      ]
    },
    {
      "cell_type": "code",
      "execution_count": 3,
      "id": "wkskdDQ8eiyS",
      "metadata": {
        "id": "wkskdDQ8eiyS"
      },
      "outputs": [],
      "source": [
        "df = pd.read_csv('/content/drive/MyDrive/BitcoinHeistData.csv')"
      ]
    },
    {
      "cell_type": "code",
      "execution_count": 4,
      "id": "1aa7863b",
      "metadata": {
        "colab": {
          "base_uri": "https://localhost:8080/",
          "height": 363
        },
        "id": "1aa7863b",
        "outputId": "07ac7d94-d095-4328-b770-acd502b9976f"
      },
      "outputs": [
        {
          "data": {
            "text/html": [
              "\n",
              "  <div id=\"df-b3ffdd4f-fab1-4b02-aff6-1376af1edaed\" class=\"colab-df-container\">\n",
              "    <div>\n",
              "<style scoped>\n",
              "    .dataframe tbody tr th:only-of-type {\n",
              "        vertical-align: middle;\n",
              "    }\n",
              "\n",
              "    .dataframe tbody tr th {\n",
              "        vertical-align: top;\n",
              "    }\n",
              "\n",
              "    .dataframe thead th {\n",
              "        text-align: right;\n",
              "    }\n",
              "</style>\n",
              "<table border=\"1\" class=\"dataframe\">\n",
              "  <thead>\n",
              "    <tr style=\"text-align: right;\">\n",
              "      <th></th>\n",
              "      <th>address</th>\n",
              "      <th>year</th>\n",
              "      <th>day</th>\n",
              "      <th>length</th>\n",
              "      <th>weight</th>\n",
              "      <th>count</th>\n",
              "      <th>looped</th>\n",
              "      <th>neighbors</th>\n",
              "      <th>income</th>\n",
              "      <th>label</th>\n",
              "    </tr>\n",
              "  </thead>\n",
              "  <tbody>\n",
              "    <tr>\n",
              "      <th>0</th>\n",
              "      <td>111K8kZAEnJg245r2cM6y9zgJGHZtJPy6</td>\n",
              "      <td>2017</td>\n",
              "      <td>11</td>\n",
              "      <td>18</td>\n",
              "      <td>8.333333e-03</td>\n",
              "      <td>1</td>\n",
              "      <td>0</td>\n",
              "      <td>2</td>\n",
              "      <td>100050000.0</td>\n",
              "      <td>princetonCerber</td>\n",
              "    </tr>\n",
              "    <tr>\n",
              "      <th>1</th>\n",
              "      <td>1123pJv8jzeFQaCV4w644pzQJzVWay2zcA</td>\n",
              "      <td>2016</td>\n",
              "      <td>132</td>\n",
              "      <td>44</td>\n",
              "      <td>2.441406e-04</td>\n",
              "      <td>1</td>\n",
              "      <td>0</td>\n",
              "      <td>1</td>\n",
              "      <td>100000000.0</td>\n",
              "      <td>princetonLocky</td>\n",
              "    </tr>\n",
              "    <tr>\n",
              "      <th>2</th>\n",
              "      <td>112536im7hy6wtKbpH1qYDWtTyMRAcA2p7</td>\n",
              "      <td>2016</td>\n",
              "      <td>246</td>\n",
              "      <td>0</td>\n",
              "      <td>1.000000e+00</td>\n",
              "      <td>1</td>\n",
              "      <td>0</td>\n",
              "      <td>2</td>\n",
              "      <td>200000000.0</td>\n",
              "      <td>princetonCerber</td>\n",
              "    </tr>\n",
              "    <tr>\n",
              "      <th>3</th>\n",
              "      <td>1126eDRw2wqSkWosjTCre8cjjQW8sSeWH7</td>\n",
              "      <td>2016</td>\n",
              "      <td>322</td>\n",
              "      <td>72</td>\n",
              "      <td>3.906250e-03</td>\n",
              "      <td>1</td>\n",
              "      <td>0</td>\n",
              "      <td>2</td>\n",
              "      <td>71200000.0</td>\n",
              "      <td>princetonCerber</td>\n",
              "    </tr>\n",
              "    <tr>\n",
              "      <th>4</th>\n",
              "      <td>1129TSjKtx65E35GiUo4AYVeyo48twbrGX</td>\n",
              "      <td>2016</td>\n",
              "      <td>238</td>\n",
              "      <td>144</td>\n",
              "      <td>7.284841e-02</td>\n",
              "      <td>456</td>\n",
              "      <td>0</td>\n",
              "      <td>1</td>\n",
              "      <td>200000000.0</td>\n",
              "      <td>princetonLocky</td>\n",
              "    </tr>\n",
              "    <tr>\n",
              "      <th>5</th>\n",
              "      <td>112AmFATxzhuSpvtz1hfpa3Zrw3BG276pc</td>\n",
              "      <td>2016</td>\n",
              "      <td>96</td>\n",
              "      <td>144</td>\n",
              "      <td>8.461400e-02</td>\n",
              "      <td>2821</td>\n",
              "      <td>0</td>\n",
              "      <td>1</td>\n",
              "      <td>50000000.0</td>\n",
              "      <td>princetonLocky</td>\n",
              "    </tr>\n",
              "    <tr>\n",
              "      <th>6</th>\n",
              "      <td>112E91jxS2qrQY1z78LPWUWrLVFGqbYPQ1</td>\n",
              "      <td>2016</td>\n",
              "      <td>225</td>\n",
              "      <td>142</td>\n",
              "      <td>2.088519e-03</td>\n",
              "      <td>881</td>\n",
              "      <td>0</td>\n",
              "      <td>2</td>\n",
              "      <td>100000000.0</td>\n",
              "      <td>princetonCerber</td>\n",
              "    </tr>\n",
              "    <tr>\n",
              "      <th>7</th>\n",
              "      <td>112eFykaD53KEkKeYW9KW8eWebZYSbt2f5</td>\n",
              "      <td>2016</td>\n",
              "      <td>324</td>\n",
              "      <td>78</td>\n",
              "      <td>3.906250e-03</td>\n",
              "      <td>1</td>\n",
              "      <td>0</td>\n",
              "      <td>2</td>\n",
              "      <td>100990000.0</td>\n",
              "      <td>princetonCerber</td>\n",
              "    </tr>\n",
              "    <tr>\n",
              "      <th>8</th>\n",
              "      <td>112FTiRdJjMrNgEtd4fvdoq3TC33Ah5Dep</td>\n",
              "      <td>2016</td>\n",
              "      <td>298</td>\n",
              "      <td>144</td>\n",
              "      <td>2.302828e+00</td>\n",
              "      <td>4220</td>\n",
              "      <td>0</td>\n",
              "      <td>2</td>\n",
              "      <td>80000000.0</td>\n",
              "      <td>princetonCerber</td>\n",
              "    </tr>\n",
              "    <tr>\n",
              "      <th>9</th>\n",
              "      <td>112GocBgFSnaote6krx828qaockFraD8mp</td>\n",
              "      <td>2016</td>\n",
              "      <td>62</td>\n",
              "      <td>112</td>\n",
              "      <td>3.725290e-09</td>\n",
              "      <td>1</td>\n",
              "      <td>0</td>\n",
              "      <td>1</td>\n",
              "      <td>50000000.0</td>\n",
              "      <td>princetonLocky</td>\n",
              "    </tr>\n",
              "  </tbody>\n",
              "</table>\n",
              "</div>\n",
              "    <div class=\"colab-df-buttons\">\n",
              "\n",
              "  <div class=\"colab-df-container\">\n",
              "    <button class=\"colab-df-convert\" onclick=\"convertToInteractive('df-b3ffdd4f-fab1-4b02-aff6-1376af1edaed')\"\n",
              "            title=\"Convert this dataframe to an interactive table.\"\n",
              "            style=\"display:none;\">\n",
              "\n",
              "  <svg xmlns=\"http://www.w3.org/2000/svg\" height=\"24px\" viewBox=\"0 -960 960 960\">\n",
              "    <path d=\"M120-120v-720h720v720H120Zm60-500h600v-160H180v160Zm220 220h160v-160H400v160Zm0 220h160v-160H400v160ZM180-400h160v-160H180v160Zm440 0h160v-160H620v160ZM180-180h160v-160H180v160Zm440 0h160v-160H620v160Z\"/>\n",
              "  </svg>\n",
              "    </button>\n",
              "\n",
              "  <style>\n",
              "    .colab-df-container {\n",
              "      display:flex;\n",
              "      gap: 12px;\n",
              "    }\n",
              "\n",
              "    .colab-df-convert {\n",
              "      background-color: #E8F0FE;\n",
              "      border: none;\n",
              "      border-radius: 50%;\n",
              "      cursor: pointer;\n",
              "      display: none;\n",
              "      fill: #1967D2;\n",
              "      height: 32px;\n",
              "      padding: 0 0 0 0;\n",
              "      width: 32px;\n",
              "    }\n",
              "\n",
              "    .colab-df-convert:hover {\n",
              "      background-color: #E2EBFA;\n",
              "      box-shadow: 0px 1px 2px rgba(60, 64, 67, 0.3), 0px 1px 3px 1px rgba(60, 64, 67, 0.15);\n",
              "      fill: #174EA6;\n",
              "    }\n",
              "\n",
              "    .colab-df-buttons div {\n",
              "      margin-bottom: 4px;\n",
              "    }\n",
              "\n",
              "    [theme=dark] .colab-df-convert {\n",
              "      background-color: #3B4455;\n",
              "      fill: #D2E3FC;\n",
              "    }\n",
              "\n",
              "    [theme=dark] .colab-df-convert:hover {\n",
              "      background-color: #434B5C;\n",
              "      box-shadow: 0px 1px 3px 1px rgba(0, 0, 0, 0.15);\n",
              "      filter: drop-shadow(0px 1px 2px rgba(0, 0, 0, 0.3));\n",
              "      fill: #FFFFFF;\n",
              "    }\n",
              "  </style>\n",
              "\n",
              "    <script>\n",
              "      const buttonEl =\n",
              "        document.querySelector('#df-b3ffdd4f-fab1-4b02-aff6-1376af1edaed button.colab-df-convert');\n",
              "      buttonEl.style.display =\n",
              "        google.colab.kernel.accessAllowed ? 'block' : 'none';\n",
              "\n",
              "      async function convertToInteractive(key) {\n",
              "        const element = document.querySelector('#df-b3ffdd4f-fab1-4b02-aff6-1376af1edaed');\n",
              "        const dataTable =\n",
              "          await google.colab.kernel.invokeFunction('convertToInteractive',\n",
              "                                                    [key], {});\n",
              "        if (!dataTable) return;\n",
              "\n",
              "        const docLinkHtml = 'Like what you see? Visit the ' +\n",
              "          '<a target=\"_blank\" href=https://colab.research.google.com/notebooks/data_table.ipynb>data table notebook</a>'\n",
              "          + ' to learn more about interactive tables.';\n",
              "        element.innerHTML = '';\n",
              "        dataTable['output_type'] = 'display_data';\n",
              "        await google.colab.output.renderOutput(dataTable, element);\n",
              "        const docLink = document.createElement('div');\n",
              "        docLink.innerHTML = docLinkHtml;\n",
              "        element.appendChild(docLink);\n",
              "      }\n",
              "    </script>\n",
              "  </div>\n",
              "\n",
              "\n",
              "<div id=\"df-89153b83-d778-47fc-b710-1aaa07659003\">\n",
              "  <button class=\"colab-df-quickchart\" onclick=\"quickchart('df-89153b83-d778-47fc-b710-1aaa07659003')\"\n",
              "            title=\"Suggest charts.\"\n",
              "            style=\"display:none;\">\n",
              "\n",
              "<svg xmlns=\"http://www.w3.org/2000/svg\" height=\"24px\"viewBox=\"0 0 24 24\"\n",
              "     width=\"24px\">\n",
              "    <g>\n",
              "        <path d=\"M19 3H5c-1.1 0-2 .9-2 2v14c0 1.1.9 2 2 2h14c1.1 0 2-.9 2-2V5c0-1.1-.9-2-2-2zM9 17H7v-7h2v7zm4 0h-2V7h2v10zm4 0h-2v-4h2v4z\"/>\n",
              "    </g>\n",
              "</svg>\n",
              "  </button>\n",
              "\n",
              "<style>\n",
              "  .colab-df-quickchart {\n",
              "      --bg-color: #E8F0FE;\n",
              "      --fill-color: #1967D2;\n",
              "      --hover-bg-color: #E2EBFA;\n",
              "      --hover-fill-color: #174EA6;\n",
              "      --disabled-fill-color: #AAA;\n",
              "      --disabled-bg-color: #DDD;\n",
              "  }\n",
              "\n",
              "  [theme=dark] .colab-df-quickchart {\n",
              "      --bg-color: #3B4455;\n",
              "      --fill-color: #D2E3FC;\n",
              "      --hover-bg-color: #434B5C;\n",
              "      --hover-fill-color: #FFFFFF;\n",
              "      --disabled-bg-color: #3B4455;\n",
              "      --disabled-fill-color: #666;\n",
              "  }\n",
              "\n",
              "  .colab-df-quickchart {\n",
              "    background-color: var(--bg-color);\n",
              "    border: none;\n",
              "    border-radius: 50%;\n",
              "    cursor: pointer;\n",
              "    display: none;\n",
              "    fill: var(--fill-color);\n",
              "    height: 32px;\n",
              "    padding: 0;\n",
              "    width: 32px;\n",
              "  }\n",
              "\n",
              "  .colab-df-quickchart:hover {\n",
              "    background-color: var(--hover-bg-color);\n",
              "    box-shadow: 0 1px 2px rgba(60, 64, 67, 0.3), 0 1px 3px 1px rgba(60, 64, 67, 0.15);\n",
              "    fill: var(--button-hover-fill-color);\n",
              "  }\n",
              "\n",
              "  .colab-df-quickchart-complete:disabled,\n",
              "  .colab-df-quickchart-complete:disabled:hover {\n",
              "    background-color: var(--disabled-bg-color);\n",
              "    fill: var(--disabled-fill-color);\n",
              "    box-shadow: none;\n",
              "  }\n",
              "\n",
              "  .colab-df-spinner {\n",
              "    border: 2px solid var(--fill-color);\n",
              "    border-color: transparent;\n",
              "    border-bottom-color: var(--fill-color);\n",
              "    animation:\n",
              "      spin 1s steps(1) infinite;\n",
              "  }\n",
              "\n",
              "  @keyframes spin {\n",
              "    0% {\n",
              "      border-color: transparent;\n",
              "      border-bottom-color: var(--fill-color);\n",
              "      border-left-color: var(--fill-color);\n",
              "    }\n",
              "    20% {\n",
              "      border-color: transparent;\n",
              "      border-left-color: var(--fill-color);\n",
              "      border-top-color: var(--fill-color);\n",
              "    }\n",
              "    30% {\n",
              "      border-color: transparent;\n",
              "      border-left-color: var(--fill-color);\n",
              "      border-top-color: var(--fill-color);\n",
              "      border-right-color: var(--fill-color);\n",
              "    }\n",
              "    40% {\n",
              "      border-color: transparent;\n",
              "      border-right-color: var(--fill-color);\n",
              "      border-top-color: var(--fill-color);\n",
              "    }\n",
              "    60% {\n",
              "      border-color: transparent;\n",
              "      border-right-color: var(--fill-color);\n",
              "    }\n",
              "    80% {\n",
              "      border-color: transparent;\n",
              "      border-right-color: var(--fill-color);\n",
              "      border-bottom-color: var(--fill-color);\n",
              "    }\n",
              "    90% {\n",
              "      border-color: transparent;\n",
              "      border-bottom-color: var(--fill-color);\n",
              "    }\n",
              "  }\n",
              "</style>\n",
              "\n",
              "  <script>\n",
              "    async function quickchart(key) {\n",
              "      const quickchartButtonEl =\n",
              "        document.querySelector('#' + key + ' button');\n",
              "      quickchartButtonEl.disabled = true;  // To prevent multiple clicks.\n",
              "      quickchartButtonEl.classList.add('colab-df-spinner');\n",
              "      try {\n",
              "        const charts = await google.colab.kernel.invokeFunction(\n",
              "            'suggestCharts', [key], {});\n",
              "      } catch (error) {\n",
              "        console.error('Error during call to suggestCharts:', error);\n",
              "      }\n",
              "      quickchartButtonEl.classList.remove('colab-df-spinner');\n",
              "      quickchartButtonEl.classList.add('colab-df-quickchart-complete');\n",
              "    }\n",
              "    (() => {\n",
              "      let quickchartButtonEl =\n",
              "        document.querySelector('#df-89153b83-d778-47fc-b710-1aaa07659003 button');\n",
              "      quickchartButtonEl.style.display =\n",
              "        google.colab.kernel.accessAllowed ? 'block' : 'none';\n",
              "    })();\n",
              "  </script>\n",
              "</div>\n",
              "    </div>\n",
              "  </div>\n"
            ],
            "text/plain": [
              "                              address  year  day  length        weight  count  \\\n",
              "0   111K8kZAEnJg245r2cM6y9zgJGHZtJPy6  2017   11      18  8.333333e-03      1   \n",
              "1  1123pJv8jzeFQaCV4w644pzQJzVWay2zcA  2016  132      44  2.441406e-04      1   \n",
              "2  112536im7hy6wtKbpH1qYDWtTyMRAcA2p7  2016  246       0  1.000000e+00      1   \n",
              "3  1126eDRw2wqSkWosjTCre8cjjQW8sSeWH7  2016  322      72  3.906250e-03      1   \n",
              "4  1129TSjKtx65E35GiUo4AYVeyo48twbrGX  2016  238     144  7.284841e-02    456   \n",
              "5  112AmFATxzhuSpvtz1hfpa3Zrw3BG276pc  2016   96     144  8.461400e-02   2821   \n",
              "6  112E91jxS2qrQY1z78LPWUWrLVFGqbYPQ1  2016  225     142  2.088519e-03    881   \n",
              "7  112eFykaD53KEkKeYW9KW8eWebZYSbt2f5  2016  324      78  3.906250e-03      1   \n",
              "8  112FTiRdJjMrNgEtd4fvdoq3TC33Ah5Dep  2016  298     144  2.302828e+00   4220   \n",
              "9  112GocBgFSnaote6krx828qaockFraD8mp  2016   62     112  3.725290e-09      1   \n",
              "\n",
              "   looped  neighbors       income            label  \n",
              "0       0          2  100050000.0  princetonCerber  \n",
              "1       0          1  100000000.0   princetonLocky  \n",
              "2       0          2  200000000.0  princetonCerber  \n",
              "3       0          2   71200000.0  princetonCerber  \n",
              "4       0          1  200000000.0   princetonLocky  \n",
              "5       0          1   50000000.0   princetonLocky  \n",
              "6       0          2  100000000.0  princetonCerber  \n",
              "7       0          2  100990000.0  princetonCerber  \n",
              "8       0          2   80000000.0  princetonCerber  \n",
              "9       0          1   50000000.0   princetonLocky  "
            ]
          },
          "execution_count": 4,
          "metadata": {},
          "output_type": "execute_result"
        }
      ],
      "source": [
        "df.head(10)"
      ]
    },
    {
      "cell_type": "code",
      "execution_count": 5,
      "id": "9f756b57",
      "metadata": {
        "colab": {
          "base_uri": "https://localhost:8080/",
          "height": 300
        },
        "id": "9f756b57",
        "outputId": "c6e0e5f0-870c-4068-f24e-4e9d760e7fbd"
      },
      "outputs": [
        {
          "data": {
            "text/html": [
              "\n",
              "  <div id=\"df-fde7d76a-ae81-4e9f-8e47-5f495a2ddd36\" class=\"colab-df-container\">\n",
              "    <div>\n",
              "<style scoped>\n",
              "    .dataframe tbody tr th:only-of-type {\n",
              "        vertical-align: middle;\n",
              "    }\n",
              "\n",
              "    .dataframe tbody tr th {\n",
              "        vertical-align: top;\n",
              "    }\n",
              "\n",
              "    .dataframe thead th {\n",
              "        text-align: right;\n",
              "    }\n",
              "</style>\n",
              "<table border=\"1\" class=\"dataframe\">\n",
              "  <thead>\n",
              "    <tr style=\"text-align: right;\">\n",
              "      <th></th>\n",
              "      <th>year</th>\n",
              "      <th>day</th>\n",
              "      <th>length</th>\n",
              "      <th>weight</th>\n",
              "      <th>count</th>\n",
              "      <th>looped</th>\n",
              "      <th>neighbors</th>\n",
              "      <th>income</th>\n",
              "    </tr>\n",
              "  </thead>\n",
              "  <tbody>\n",
              "    <tr>\n",
              "      <th>count</th>\n",
              "      <td>2.916697e+06</td>\n",
              "      <td>2.916697e+06</td>\n",
              "      <td>2.916697e+06</td>\n",
              "      <td>2.916697e+06</td>\n",
              "      <td>2.916697e+06</td>\n",
              "      <td>2.916697e+06</td>\n",
              "      <td>2.916697e+06</td>\n",
              "      <td>2.916697e+06</td>\n",
              "    </tr>\n",
              "    <tr>\n",
              "      <th>mean</th>\n",
              "      <td>2.014475e+03</td>\n",
              "      <td>1.814572e+02</td>\n",
              "      <td>4.500859e+01</td>\n",
              "      <td>5.455192e-01</td>\n",
              "      <td>7.216446e+02</td>\n",
              "      <td>2.385067e+02</td>\n",
              "      <td>2.206516e+00</td>\n",
              "      <td>4.464889e+09</td>\n",
              "    </tr>\n",
              "    <tr>\n",
              "      <th>std</th>\n",
              "      <td>2.257398e+00</td>\n",
              "      <td>1.040118e+02</td>\n",
              "      <td>5.898236e+01</td>\n",
              "      <td>3.674255e+00</td>\n",
              "      <td>1.689676e+03</td>\n",
              "      <td>9.663217e+02</td>\n",
              "      <td>1.791877e+01</td>\n",
              "      <td>1.626860e+11</td>\n",
              "    </tr>\n",
              "    <tr>\n",
              "      <th>min</th>\n",
              "      <td>2.011000e+03</td>\n",
              "      <td>1.000000e+00</td>\n",
              "      <td>0.000000e+00</td>\n",
              "      <td>3.606469e-94</td>\n",
              "      <td>1.000000e+00</td>\n",
              "      <td>0.000000e+00</td>\n",
              "      <td>1.000000e+00</td>\n",
              "      <td>3.000000e+07</td>\n",
              "    </tr>\n",
              "    <tr>\n",
              "      <th>25%</th>\n",
              "      <td>2.013000e+03</td>\n",
              "      <td>9.200000e+01</td>\n",
              "      <td>2.000000e+00</td>\n",
              "      <td>2.148438e-02</td>\n",
              "      <td>1.000000e+00</td>\n",
              "      <td>0.000000e+00</td>\n",
              "      <td>1.000000e+00</td>\n",
              "      <td>7.428559e+07</td>\n",
              "    </tr>\n",
              "    <tr>\n",
              "      <th>50%</th>\n",
              "      <td>2.014000e+03</td>\n",
              "      <td>1.810000e+02</td>\n",
              "      <td>8.000000e+00</td>\n",
              "      <td>2.500000e-01</td>\n",
              "      <td>1.000000e+00</td>\n",
              "      <td>0.000000e+00</td>\n",
              "      <td>2.000000e+00</td>\n",
              "      <td>1.999985e+08</td>\n",
              "    </tr>\n",
              "    <tr>\n",
              "      <th>75%</th>\n",
              "      <td>2.016000e+03</td>\n",
              "      <td>2.710000e+02</td>\n",
              "      <td>1.080000e+02</td>\n",
              "      <td>8.819482e-01</td>\n",
              "      <td>5.600000e+01</td>\n",
              "      <td>0.000000e+00</td>\n",
              "      <td>2.000000e+00</td>\n",
              "      <td>9.940000e+08</td>\n",
              "    </tr>\n",
              "    <tr>\n",
              "      <th>max</th>\n",
              "      <td>2.018000e+03</td>\n",
              "      <td>3.650000e+02</td>\n",
              "      <td>1.440000e+02</td>\n",
              "      <td>1.943749e+03</td>\n",
              "      <td>1.449700e+04</td>\n",
              "      <td>1.449600e+04</td>\n",
              "      <td>1.292000e+04</td>\n",
              "      <td>4.996440e+13</td>\n",
              "    </tr>\n",
              "  </tbody>\n",
              "</table>\n",
              "</div>\n",
              "    <div class=\"colab-df-buttons\">\n",
              "\n",
              "  <div class=\"colab-df-container\">\n",
              "    <button class=\"colab-df-convert\" onclick=\"convertToInteractive('df-fde7d76a-ae81-4e9f-8e47-5f495a2ddd36')\"\n",
              "            title=\"Convert this dataframe to an interactive table.\"\n",
              "            style=\"display:none;\">\n",
              "\n",
              "  <svg xmlns=\"http://www.w3.org/2000/svg\" height=\"24px\" viewBox=\"0 -960 960 960\">\n",
              "    <path d=\"M120-120v-720h720v720H120Zm60-500h600v-160H180v160Zm220 220h160v-160H400v160Zm0 220h160v-160H400v160ZM180-400h160v-160H180v160Zm440 0h160v-160H620v160ZM180-180h160v-160H180v160Zm440 0h160v-160H620v160Z\"/>\n",
              "  </svg>\n",
              "    </button>\n",
              "\n",
              "  <style>\n",
              "    .colab-df-container {\n",
              "      display:flex;\n",
              "      gap: 12px;\n",
              "    }\n",
              "\n",
              "    .colab-df-convert {\n",
              "      background-color: #E8F0FE;\n",
              "      border: none;\n",
              "      border-radius: 50%;\n",
              "      cursor: pointer;\n",
              "      display: none;\n",
              "      fill: #1967D2;\n",
              "      height: 32px;\n",
              "      padding: 0 0 0 0;\n",
              "      width: 32px;\n",
              "    }\n",
              "\n",
              "    .colab-df-convert:hover {\n",
              "      background-color: #E2EBFA;\n",
              "      box-shadow: 0px 1px 2px rgba(60, 64, 67, 0.3), 0px 1px 3px 1px rgba(60, 64, 67, 0.15);\n",
              "      fill: #174EA6;\n",
              "    }\n",
              "\n",
              "    .colab-df-buttons div {\n",
              "      margin-bottom: 4px;\n",
              "    }\n",
              "\n",
              "    [theme=dark] .colab-df-convert {\n",
              "      background-color: #3B4455;\n",
              "      fill: #D2E3FC;\n",
              "    }\n",
              "\n",
              "    [theme=dark] .colab-df-convert:hover {\n",
              "      background-color: #434B5C;\n",
              "      box-shadow: 0px 1px 3px 1px rgba(0, 0, 0, 0.15);\n",
              "      filter: drop-shadow(0px 1px 2px rgba(0, 0, 0, 0.3));\n",
              "      fill: #FFFFFF;\n",
              "    }\n",
              "  </style>\n",
              "\n",
              "    <script>\n",
              "      const buttonEl =\n",
              "        document.querySelector('#df-fde7d76a-ae81-4e9f-8e47-5f495a2ddd36 button.colab-df-convert');\n",
              "      buttonEl.style.display =\n",
              "        google.colab.kernel.accessAllowed ? 'block' : 'none';\n",
              "\n",
              "      async function convertToInteractive(key) {\n",
              "        const element = document.querySelector('#df-fde7d76a-ae81-4e9f-8e47-5f495a2ddd36');\n",
              "        const dataTable =\n",
              "          await google.colab.kernel.invokeFunction('convertToInteractive',\n",
              "                                                    [key], {});\n",
              "        if (!dataTable) return;\n",
              "\n",
              "        const docLinkHtml = 'Like what you see? Visit the ' +\n",
              "          '<a target=\"_blank\" href=https://colab.research.google.com/notebooks/data_table.ipynb>data table notebook</a>'\n",
              "          + ' to learn more about interactive tables.';\n",
              "        element.innerHTML = '';\n",
              "        dataTable['output_type'] = 'display_data';\n",
              "        await google.colab.output.renderOutput(dataTable, element);\n",
              "        const docLink = document.createElement('div');\n",
              "        docLink.innerHTML = docLinkHtml;\n",
              "        element.appendChild(docLink);\n",
              "      }\n",
              "    </script>\n",
              "  </div>\n",
              "\n",
              "\n",
              "<div id=\"df-de7f6f1e-f424-49e2-85a8-63dd13f55f43\">\n",
              "  <button class=\"colab-df-quickchart\" onclick=\"quickchart('df-de7f6f1e-f424-49e2-85a8-63dd13f55f43')\"\n",
              "            title=\"Suggest charts.\"\n",
              "            style=\"display:none;\">\n",
              "\n",
              "<svg xmlns=\"http://www.w3.org/2000/svg\" height=\"24px\"viewBox=\"0 0 24 24\"\n",
              "     width=\"24px\">\n",
              "    <g>\n",
              "        <path d=\"M19 3H5c-1.1 0-2 .9-2 2v14c0 1.1.9 2 2 2h14c1.1 0 2-.9 2-2V5c0-1.1-.9-2-2-2zM9 17H7v-7h2v7zm4 0h-2V7h2v10zm4 0h-2v-4h2v4z\"/>\n",
              "    </g>\n",
              "</svg>\n",
              "  </button>\n",
              "\n",
              "<style>\n",
              "  .colab-df-quickchart {\n",
              "      --bg-color: #E8F0FE;\n",
              "      --fill-color: #1967D2;\n",
              "      --hover-bg-color: #E2EBFA;\n",
              "      --hover-fill-color: #174EA6;\n",
              "      --disabled-fill-color: #AAA;\n",
              "      --disabled-bg-color: #DDD;\n",
              "  }\n",
              "\n",
              "  [theme=dark] .colab-df-quickchart {\n",
              "      --bg-color: #3B4455;\n",
              "      --fill-color: #D2E3FC;\n",
              "      --hover-bg-color: #434B5C;\n",
              "      --hover-fill-color: #FFFFFF;\n",
              "      --disabled-bg-color: #3B4455;\n",
              "      --disabled-fill-color: #666;\n",
              "  }\n",
              "\n",
              "  .colab-df-quickchart {\n",
              "    background-color: var(--bg-color);\n",
              "    border: none;\n",
              "    border-radius: 50%;\n",
              "    cursor: pointer;\n",
              "    display: none;\n",
              "    fill: var(--fill-color);\n",
              "    height: 32px;\n",
              "    padding: 0;\n",
              "    width: 32px;\n",
              "  }\n",
              "\n",
              "  .colab-df-quickchart:hover {\n",
              "    background-color: var(--hover-bg-color);\n",
              "    box-shadow: 0 1px 2px rgba(60, 64, 67, 0.3), 0 1px 3px 1px rgba(60, 64, 67, 0.15);\n",
              "    fill: var(--button-hover-fill-color);\n",
              "  }\n",
              "\n",
              "  .colab-df-quickchart-complete:disabled,\n",
              "  .colab-df-quickchart-complete:disabled:hover {\n",
              "    background-color: var(--disabled-bg-color);\n",
              "    fill: var(--disabled-fill-color);\n",
              "    box-shadow: none;\n",
              "  }\n",
              "\n",
              "  .colab-df-spinner {\n",
              "    border: 2px solid var(--fill-color);\n",
              "    border-color: transparent;\n",
              "    border-bottom-color: var(--fill-color);\n",
              "    animation:\n",
              "      spin 1s steps(1) infinite;\n",
              "  }\n",
              "\n",
              "  @keyframes spin {\n",
              "    0% {\n",
              "      border-color: transparent;\n",
              "      border-bottom-color: var(--fill-color);\n",
              "      border-left-color: var(--fill-color);\n",
              "    }\n",
              "    20% {\n",
              "      border-color: transparent;\n",
              "      border-left-color: var(--fill-color);\n",
              "      border-top-color: var(--fill-color);\n",
              "    }\n",
              "    30% {\n",
              "      border-color: transparent;\n",
              "      border-left-color: var(--fill-color);\n",
              "      border-top-color: var(--fill-color);\n",
              "      border-right-color: var(--fill-color);\n",
              "    }\n",
              "    40% {\n",
              "      border-color: transparent;\n",
              "      border-right-color: var(--fill-color);\n",
              "      border-top-color: var(--fill-color);\n",
              "    }\n",
              "    60% {\n",
              "      border-color: transparent;\n",
              "      border-right-color: var(--fill-color);\n",
              "    }\n",
              "    80% {\n",
              "      border-color: transparent;\n",
              "      border-right-color: var(--fill-color);\n",
              "      border-bottom-color: var(--fill-color);\n",
              "    }\n",
              "    90% {\n",
              "      border-color: transparent;\n",
              "      border-bottom-color: var(--fill-color);\n",
              "    }\n",
              "  }\n",
              "</style>\n",
              "\n",
              "  <script>\n",
              "    async function quickchart(key) {\n",
              "      const quickchartButtonEl =\n",
              "        document.querySelector('#' + key + ' button');\n",
              "      quickchartButtonEl.disabled = true;  // To prevent multiple clicks.\n",
              "      quickchartButtonEl.classList.add('colab-df-spinner');\n",
              "      try {\n",
              "        const charts = await google.colab.kernel.invokeFunction(\n",
              "            'suggestCharts', [key], {});\n",
              "      } catch (error) {\n",
              "        console.error('Error during call to suggestCharts:', error);\n",
              "      }\n",
              "      quickchartButtonEl.classList.remove('colab-df-spinner');\n",
              "      quickchartButtonEl.classList.add('colab-df-quickchart-complete');\n",
              "    }\n",
              "    (() => {\n",
              "      let quickchartButtonEl =\n",
              "        document.querySelector('#df-de7f6f1e-f424-49e2-85a8-63dd13f55f43 button');\n",
              "      quickchartButtonEl.style.display =\n",
              "        google.colab.kernel.accessAllowed ? 'block' : 'none';\n",
              "    })();\n",
              "  </script>\n",
              "</div>\n",
              "    </div>\n",
              "  </div>\n"
            ],
            "text/plain": [
              "               year           day        length        weight         count  \\\n",
              "count  2.916697e+06  2.916697e+06  2.916697e+06  2.916697e+06  2.916697e+06   \n",
              "mean   2.014475e+03  1.814572e+02  4.500859e+01  5.455192e-01  7.216446e+02   \n",
              "std    2.257398e+00  1.040118e+02  5.898236e+01  3.674255e+00  1.689676e+03   \n",
              "min    2.011000e+03  1.000000e+00  0.000000e+00  3.606469e-94  1.000000e+00   \n",
              "25%    2.013000e+03  9.200000e+01  2.000000e+00  2.148438e-02  1.000000e+00   \n",
              "50%    2.014000e+03  1.810000e+02  8.000000e+00  2.500000e-01  1.000000e+00   \n",
              "75%    2.016000e+03  2.710000e+02  1.080000e+02  8.819482e-01  5.600000e+01   \n",
              "max    2.018000e+03  3.650000e+02  1.440000e+02  1.943749e+03  1.449700e+04   \n",
              "\n",
              "             looped     neighbors        income  \n",
              "count  2.916697e+06  2.916697e+06  2.916697e+06  \n",
              "mean   2.385067e+02  2.206516e+00  4.464889e+09  \n",
              "std    9.663217e+02  1.791877e+01  1.626860e+11  \n",
              "min    0.000000e+00  1.000000e+00  3.000000e+07  \n",
              "25%    0.000000e+00  1.000000e+00  7.428559e+07  \n",
              "50%    0.000000e+00  2.000000e+00  1.999985e+08  \n",
              "75%    0.000000e+00  2.000000e+00  9.940000e+08  \n",
              "max    1.449600e+04  1.292000e+04  4.996440e+13  "
            ]
          },
          "execution_count": 5,
          "metadata": {},
          "output_type": "execute_result"
        }
      ],
      "source": [
        "# get descriptive statistics\n",
        "df.describe()"
      ]
    },
    {
      "cell_type": "code",
      "execution_count": 6,
      "id": "24538b8b",
      "metadata": {
        "colab": {
          "base_uri": "https://localhost:8080/"
        },
        "id": "24538b8b",
        "outputId": "8b79c37d-b53b-4fa2-d614-6754dd7ac796"
      },
      "outputs": [
        {
          "name": "stdout",
          "output_type": "stream",
          "text": [
            "(2916697, 10)\n"
          ]
        }
      ],
      "source": [
        "# get the shape of the dataframe\n",
        "print(df.shape)"
      ]
    },
    {
      "cell_type": "code",
      "execution_count": null,
      "id": "df9356fb",
      "metadata": {
        "id": "df9356fb"
      },
      "outputs": [],
      "source": [
        "# check for missing values\n",
        "print(df.isnull().sum())"
      ]
    },
    {
      "cell_type": "code",
      "execution_count": 9,
      "id": "2f7f7139",
      "metadata": {
        "id": "2f7f7139"
      },
      "outputs": [],
      "source": [
        "# drop date, year and address columns\n",
        "df = df.drop(['year'], axis=1)\n",
        "df = df.drop(['day'], axis=1)\n",
        "df = df.drop(['address'], axis=1)"
      ]
    },
    {
      "cell_type": "markdown",
      "id": "4fb85128",
      "metadata": {
        "id": "4fb85128"
      },
      "source": [
        "# Exploratory Data Analysis"
      ]
    },
    {
      "cell_type": "code",
      "execution_count": 10,
      "id": "1a1e82c8",
      "metadata": {
        "colab": {
          "base_uri": "https://localhost:8080/"
        },
        "id": "1a1e82c8",
        "outputId": "d248078c-7c1e-4b58-a970-fb6e97520159"
      },
      "outputs": [
        {
          "name": "stdout",
          "output_type": "stream",
          "text": [
            "             length    weight     count    looped  neighbors    income\n",
            "length     1.000000  0.000228  0.703467  0.411609   0.031523  0.000488\n",
            "weight     0.000228  1.000000  0.022313  0.061646   0.691963  0.069774\n",
            "count      0.703467  0.022313  1.000000  0.560370   0.025441 -0.003635\n",
            "looped     0.411609  0.061646  0.560370  1.000000   0.052826  0.002551\n",
            "neighbors  0.031523  0.691963  0.025441  0.052826   1.000000  0.138966\n",
            "income     0.000488  0.069774 -0.003635  0.002551   0.138966  1.000000\n"
          ]
        }
      ],
      "source": [
        "# 1. Correlation matrix\n",
        "corr = df.corr()\n",
        "print(corr)"
      ]
    },
    {
      "cell_type": "code",
      "execution_count": 11,
      "id": "62e43465",
      "metadata": {
        "colab": {
          "base_uri": "https://localhost:8080/",
          "height": 435
        },
        "id": "62e43465",
        "outputId": "886b5a9a-5af6-49c6-dfb8-fe9806461592"
      },
      "outputs": [
        {
          "data": {
            "image/png": "[encoded data removed]",
            "text/plain": [
              "<Figure size 640x480 with 2 Axes>"
            ]
          },
          "metadata": {},
          "output_type": "display_data"
        }
      ],
      "source": [
        "# 2. Heatmap\n",
        "sns.heatmap(corr, xticklabels=corr.columns, yticklabels=corr.columns)\n",
        "plt.show()"
      ]
    },
    {
      "cell_type": "code",
      "execution_count": 12,
      "id": "e8d3fd3c",
      "metadata": {
        "colab": {
          "base_uri": "https://localhost:8080/",
          "height": 537
        },
        "id": "e8d3fd3c",
        "outputId": "953c0fe3-2ace-48c1-e90c-058cfe063f89"
      },
      "outputs": [
        {
          "data": {
            "image/png": "[encoded data removed]",
            "text/plain": [
              "<Figure size 800x600 with 1 Axes>"
            ]
          },
          "metadata": {},
          "output_type": "display_data"
        }
      ],
      "source": [
        "# show the barchart of white label vs rest of the labels treated as black\n",
        "label_white = []\n",
        "label_black = []\n",
        "for element in df.label:\n",
        "    if element == 'white':\n",
        "        label_white.append(element)\n",
        "    else:\n",
        "        label_black.append(element)\n",
        "\n",
        "x_ax = ['White','Black']\n",
        "y_ax = [len(label_white),len(label_black)]\n",
        "\n",
        "plt.figure(figsize = (8,6))\n",
        "plt.bar(x_ax,y_ax)\n",
        "plt.savefig(\"imbalaced\")"
      ]
    },
    {
      "cell_type": "code",
      "execution_count": 13,
      "id": "a5c7ad39",
      "metadata": {
        "id": "a5c7ad39"
      },
      "outputs": [],
      "source": [
        "# make right skewed data to normal distribution\n",
        "df['income'] = np.log(df['income'])\n",
        "df['weight'] = np.log(df['weight'])\n",
        "df['count'] = np.log(df['count'])\n",
        "df['looped'] = np.log(df['looped'])\n",
        "df['neighbors'] = np.log(df['neighbors'])\n",
        "df['length'] = np.log(df['length'])"
      ]
    },
    {
      "cell_type": "code",
      "execution_count": 14,
      "id": "9dc55c2c",
      "metadata": {
        "id": "9dc55c2c"
      },
      "outputs": [],
      "source": [
        "# drop nan values\n",
        "df = df.dropna()"
      ]
    },
    {
      "cell_type": "code",
      "execution_count": 15,
      "id": "xT-5AM3tzqDv",
      "metadata": {
        "colab": {
          "base_uri": "https://localhost:8080/"
        },
        "id": "xT-5AM3tzqDv",
        "outputId": "5a6c9ff5-62de-4bb9-cf85-53a85ffdbac9"
      },
      "outputs": [
        {
          "data": {
            "text/plain": [
              "(2916697, 7)"
            ]
          },
          "execution_count": 15,
          "metadata": {},
          "output_type": "execute_result"
        }
      ],
      "source": [
        "df.shape"
      ]
    },
    {
      "cell_type": "code",
      "execution_count": 16,
      "id": "JMIpSS7tzrFF",
      "metadata": {
        "id": "JMIpSS7tzrFF"
      },
      "outputs": [],
      "source": [
        "# drop inf rows\n",
        "df = df[np.isfinite(df['income'])]\n",
        "df = df[np.isfinite(df['weight'])]\n",
        "df = df[np.isfinite(df['count'])]\n",
        "df = df[np.isfinite(df['looped'])]\n",
        "df = df[np.isfinite(df['neighbors'])]\n",
        "df = df[np.isfinite(df['length'])]"
      ]
    },
    {
      "cell_type": "code",
      "execution_count": 17,
      "id": "4b1abad9",
      "metadata": {
        "colab": {
          "base_uri": "https://localhost:8080/",
          "height": 443
        },
        "id": "4b1abad9",
        "outputId": "1bede6dd-2952-4b2d-c91b-7a4c62459f0f"
      },
      "outputs": [
        {
          "data": {
            "text/html": [
              "\n",
              "  <div id=\"df-4bc70cb9-dcae-4d57-9edc-6ed7f5212f23\" class=\"colab-df-container\">\n",
              "    <div>\n",
              "<style scoped>\n",
              "    .dataframe tbody tr th:only-of-type {\n",
              "        vertical-align: middle;\n",
              "    }\n",
              "\n",
              "    .dataframe tbody tr th {\n",
              "        vertical-align: top;\n",
              "    }\n",
              "\n",
              "    .dataframe thead th {\n",
              "        text-align: right;\n",
              "    }\n",
              "</style>\n",
              "<table border=\"1\" class=\"dataframe\">\n",
              "  <thead>\n",
              "    <tr style=\"text-align: right;\">\n",
              "      <th></th>\n",
              "      <th>montrealAPT</th>\n",
              "      <th>montrealCryptXXX</th>\n",
              "      <th>montrealCryptoLocker</th>\n",
              "      <th>montrealCryptoTorLocker2015</th>\n",
              "      <th>montrealDMALocker</th>\n",
              "      <th>montrealDMALockerv3</th>\n",
              "      <th>montrealEDA2</th>\n",
              "      <th>montrealGlobe</th>\n",
              "      <th>montrealGlobeImposter</th>\n",
              "      <th>montrealGlobev3</th>\n",
              "      <th>...</th>\n",
              "      <th>montrealRazy</th>\n",
              "      <th>montrealSam</th>\n",
              "      <th>montrealSamSam</th>\n",
              "      <th>montrealWannaCry</th>\n",
              "      <th>montrealXTPLocker</th>\n",
              "      <th>paduaCryptoWall</th>\n",
              "      <th>paduaKeRanger</th>\n",
              "      <th>princetonCerber</th>\n",
              "      <th>princetonLocky</th>\n",
              "      <th>white</th>\n",
              "    </tr>\n",
              "  </thead>\n",
              "  <tbody>\n",
              "    <tr>\n",
              "      <th>27</th>\n",
              "      <td>0</td>\n",
              "      <td>0</td>\n",
              "      <td>0</td>\n",
              "      <td>0</td>\n",
              "      <td>0</td>\n",
              "      <td>0</td>\n",
              "      <td>0</td>\n",
              "      <td>0</td>\n",
              "      <td>0</td>\n",
              "      <td>0</td>\n",
              "      <td>...</td>\n",
              "      <td>0</td>\n",
              "      <td>0</td>\n",
              "      <td>0</td>\n",
              "      <td>0</td>\n",
              "      <td>0</td>\n",
              "      <td>0</td>\n",
              "      <td>0</td>\n",
              "      <td>1</td>\n",
              "      <td>0</td>\n",
              "      <td>0</td>\n",
              "    </tr>\n",
              "    <tr>\n",
              "      <th>33</th>\n",
              "      <td>0</td>\n",
              "      <td>0</td>\n",
              "      <td>0</td>\n",
              "      <td>0</td>\n",
              "      <td>0</td>\n",
              "      <td>0</td>\n",
              "      <td>0</td>\n",
              "      <td>0</td>\n",
              "      <td>0</td>\n",
              "      <td>0</td>\n",
              "      <td>...</td>\n",
              "      <td>0</td>\n",
              "      <td>0</td>\n",
              "      <td>0</td>\n",
              "      <td>0</td>\n",
              "      <td>0</td>\n",
              "      <td>0</td>\n",
              "      <td>0</td>\n",
              "      <td>1</td>\n",
              "      <td>0</td>\n",
              "      <td>0</td>\n",
              "    </tr>\n",
              "    <tr>\n",
              "      <th>98</th>\n",
              "      <td>0</td>\n",
              "      <td>0</td>\n",
              "      <td>0</td>\n",
              "      <td>0</td>\n",
              "      <td>0</td>\n",
              "      <td>0</td>\n",
              "      <td>0</td>\n",
              "      <td>0</td>\n",
              "      <td>0</td>\n",
              "      <td>0</td>\n",
              "      <td>...</td>\n",
              "      <td>0</td>\n",
              "      <td>0</td>\n",
              "      <td>0</td>\n",
              "      <td>0</td>\n",
              "      <td>0</td>\n",
              "      <td>0</td>\n",
              "      <td>0</td>\n",
              "      <td>1</td>\n",
              "      <td>0</td>\n",
              "      <td>0</td>\n",
              "    </tr>\n",
              "    <tr>\n",
              "      <th>109</th>\n",
              "      <td>0</td>\n",
              "      <td>0</td>\n",
              "      <td>0</td>\n",
              "      <td>0</td>\n",
              "      <td>0</td>\n",
              "      <td>0</td>\n",
              "      <td>0</td>\n",
              "      <td>0</td>\n",
              "      <td>0</td>\n",
              "      <td>0</td>\n",
              "      <td>...</td>\n",
              "      <td>0</td>\n",
              "      <td>0</td>\n",
              "      <td>0</td>\n",
              "      <td>0</td>\n",
              "      <td>0</td>\n",
              "      <td>1</td>\n",
              "      <td>0</td>\n",
              "      <td>0</td>\n",
              "      <td>0</td>\n",
              "      <td>0</td>\n",
              "    </tr>\n",
              "    <tr>\n",
              "      <th>121</th>\n",
              "      <td>0</td>\n",
              "      <td>0</td>\n",
              "      <td>0</td>\n",
              "      <td>0</td>\n",
              "      <td>0</td>\n",
              "      <td>0</td>\n",
              "      <td>0</td>\n",
              "      <td>0</td>\n",
              "      <td>0</td>\n",
              "      <td>0</td>\n",
              "      <td>...</td>\n",
              "      <td>0</td>\n",
              "      <td>0</td>\n",
              "      <td>0</td>\n",
              "      <td>0</td>\n",
              "      <td>0</td>\n",
              "      <td>1</td>\n",
              "      <td>0</td>\n",
              "      <td>0</td>\n",
              "      <td>0</td>\n",
              "      <td>0</td>\n",
              "    </tr>\n",
              "    <tr>\n",
              "      <th>...</th>\n",
              "      <td>...</td>\n",
              "      <td>...</td>\n",
              "      <td>...</td>\n",
              "      <td>...</td>\n",
              "      <td>...</td>\n",
              "      <td>...</td>\n",
              "      <td>...</td>\n",
              "      <td>...</td>\n",
              "      <td>...</td>\n",
              "      <td>...</td>\n",
              "      <td>...</td>\n",
              "      <td>...</td>\n",
              "      <td>...</td>\n",
              "      <td>...</td>\n",
              "      <td>...</td>\n",
              "      <td>...</td>\n",
              "      <td>...</td>\n",
              "      <td>...</td>\n",
              "      <td>...</td>\n",
              "      <td>...</td>\n",
              "      <td>...</td>\n",
              "    </tr>\n",
              "    <tr>\n",
              "      <th>2916667</th>\n",
              "      <td>0</td>\n",
              "      <td>0</td>\n",
              "      <td>0</td>\n",
              "      <td>0</td>\n",
              "      <td>0</td>\n",
              "      <td>0</td>\n",
              "      <td>0</td>\n",
              "      <td>0</td>\n",
              "      <td>0</td>\n",
              "      <td>0</td>\n",
              "      <td>...</td>\n",
              "      <td>0</td>\n",
              "      <td>0</td>\n",
              "      <td>0</td>\n",
              "      <td>0</td>\n",
              "      <td>0</td>\n",
              "      <td>0</td>\n",
              "      <td>0</td>\n",
              "      <td>0</td>\n",
              "      <td>0</td>\n",
              "      <td>1</td>\n",
              "    </tr>\n",
              "    <tr>\n",
              "      <th>2916668</th>\n",
              "      <td>0</td>\n",
              "      <td>0</td>\n",
              "      <td>0</td>\n",
              "      <td>0</td>\n",
              "      <td>0</td>\n",
              "      <td>0</td>\n",
              "      <td>0</td>\n",
              "      <td>0</td>\n",
              "      <td>0</td>\n",
              "      <td>0</td>\n",
              "      <td>...</td>\n",
              "      <td>0</td>\n",
              "      <td>0</td>\n",
              "      <td>0</td>\n",
              "      <td>0</td>\n",
              "      <td>0</td>\n",
              "      <td>0</td>\n",
              "      <td>0</td>\n",
              "      <td>0</td>\n",
              "      <td>0</td>\n",
              "      <td>1</td>\n",
              "    </tr>\n",
              "    <tr>\n",
              "      <th>2916680</th>\n",
              "      <td>0</td>\n",
              "      <td>0</td>\n",
              "      <td>0</td>\n",
              "      <td>0</td>\n",
              "      <td>0</td>\n",
              "      <td>0</td>\n",
              "      <td>0</td>\n",
              "      <td>0</td>\n",
              "      <td>0</td>\n",
              "      <td>0</td>\n",
              "      <td>...</td>\n",
              "      <td>0</td>\n",
              "      <td>0</td>\n",
              "      <td>0</td>\n",
              "      <td>0</td>\n",
              "      <td>0</td>\n",
              "      <td>0</td>\n",
              "      <td>0</td>\n",
              "      <td>0</td>\n",
              "      <td>0</td>\n",
              "      <td>1</td>\n",
              "    </tr>\n",
              "    <tr>\n",
              "      <th>2916688</th>\n",
              "      <td>0</td>\n",
              "      <td>0</td>\n",
              "      <td>0</td>\n",
              "      <td>0</td>\n",
              "      <td>0</td>\n",
              "      <td>0</td>\n",
              "      <td>0</td>\n",
              "      <td>0</td>\n",
              "      <td>0</td>\n",
              "      <td>0</td>\n",
              "      <td>...</td>\n",
              "      <td>0</td>\n",
              "      <td>0</td>\n",
              "      <td>0</td>\n",
              "      <td>0</td>\n",
              "      <td>0</td>\n",
              "      <td>0</td>\n",
              "      <td>0</td>\n",
              "      <td>0</td>\n",
              "      <td>0</td>\n",
              "      <td>1</td>\n",
              "    </tr>\n",
              "    <tr>\n",
              "      <th>2916694</th>\n",
              "      <td>0</td>\n",
              "      <td>0</td>\n",
              "      <td>0</td>\n",
              "      <td>0</td>\n",
              "      <td>0</td>\n",
              "      <td>0</td>\n",
              "      <td>0</td>\n",
              "      <td>0</td>\n",
              "      <td>0</td>\n",
              "      <td>0</td>\n",
              "      <td>...</td>\n",
              "      <td>0</td>\n",
              "      <td>0</td>\n",
              "      <td>0</td>\n",
              "      <td>0</td>\n",
              "      <td>0</td>\n",
              "      <td>0</td>\n",
              "      <td>0</td>\n",
              "      <td>0</td>\n",
              "      <td>0</td>\n",
              "      <td>1</td>\n",
              "    </tr>\n",
              "  </tbody>\n",
              "</table>\n",
              "<p>411820 rows × 21 columns</p>\n",
              "</div>\n",
              "    <div class=\"colab-df-buttons\">\n",
              "\n",
              "  <div class=\"colab-df-container\">\n",
              "    <button class=\"colab-df-convert\" onclick=\"convertToInteractive('df-4bc70cb9-dcae-4d57-9edc-6ed7f5212f23')\"\n",
              "            title=\"Convert this dataframe to an interactive table.\"\n",
              "            style=\"display:none;\">\n",
              "\n",
              "  <svg xmlns=\"http://www.w3.org/2000/svg\" height=\"24px\" viewBox=\"0 -960 960 960\">\n",
              "    <path d=\"M120-120v-720h720v720H120Zm60-500h600v-160H180v160Zm220 220h160v-160H400v160Zm0 220h160v-160H400v160ZM180-400h160v-160H180v160Zm440 0h160v-160H620v160ZM180-180h160v-160H180v160Zm440 0h160v-160H620v160Z\"/>\n",
              "  </svg>\n",
              "    </button>\n",
              "\n",
              "  <style>\n",
              "    .colab-df-container {\n",
              "      display:flex;\n",
              "      gap: 12px;\n",
              "    }\n",
              "\n",
              "    .colab-df-convert {\n",
              "      background-color: #E8F0FE;\n",
              "      border: none;\n",
              "      border-radius: 50%;\n",
              "      cursor: pointer;\n",
              "      display: none;\n",
              "      fill: #1967D2;\n",
              "      height: 32px;\n",
              "      padding: 0 0 0 0;\n",
              "      width: 32px;\n",
              "    }\n",
              "\n",
              "    .colab-df-convert:hover {\n",
              "      background-color: #E2EBFA;\n",
              "      box-shadow: 0px 1px 2px rgba(60, 64, 67, 0.3), 0px 1px 3px 1px rgba(60, 64, 67, 0.15);\n",
              "      fill: #174EA6;\n",
              "    }\n",
              "\n",
              "    .colab-df-buttons div {\n",
              "      margin-bottom: 4px;\n",
              "    }\n",
              "\n",
              "    [theme=dark] .colab-df-convert {\n",
              "      background-color: #3B4455;\n",
              "      fill: #D2E3FC;\n",
              "    }\n",
              "\n",
              "    [theme=dark] .colab-df-convert:hover {\n",
              "      background-color: #434B5C;\n",
              "      box-shadow: 0px 1px 3px 1px rgba(0, 0, 0, 0.15);\n",
              "      filter: drop-shadow(0px 1px 2px rgba(0, 0, 0, 0.3));\n",
              "      fill: #FFFFFF;\n",
              "    }\n",
              "  </style>\n",
              "\n",
              "    <script>\n",
              "      const buttonEl =\n",
              "        document.querySelector('#df-4bc70cb9-dcae-4d57-9edc-6ed7f5212f23 button.colab-df-convert');\n",
              "      buttonEl.style.display =\n",
              "        google.colab.kernel.accessAllowed ? 'block' : 'none';\n",
              "\n",
              "      async function convertToInteractive(key) {\n",
              "        const element = document.querySelector('#df-4bc70cb9-dcae-4d57-9edc-6ed7f5212f23');\n",
              "        const dataTable =\n",
              "          await google.colab.kernel.invokeFunction('convertToInteractive',\n",
              "                                                    [key], {});\n",
              "        if (!dataTable) return;\n",
              "\n",
              "        const docLinkHtml = 'Like what you see? Visit the ' +\n",
              "          '<a target=\"_blank\" href=https://colab.research.google.com/notebooks/data_table.ipynb>data table notebook</a>'\n",
              "          + ' to learn more about interactive tables.';\n",
              "        element.innerHTML = '';\n",
              "        dataTable['output_type'] = 'display_data';\n",
              "        await google.colab.output.renderOutput(dataTable, element);\n",
              "        const docLink = document.createElement('div');\n",
              "        docLink.innerHTML = docLinkHtml;\n",
              "        element.appendChild(docLink);\n",
              "      }\n",
              "    </script>\n",
              "  </div>\n",
              "\n",
              "\n",
              "<div id=\"df-4de38836-7e15-464e-8971-2a4cac00a443\">\n",
              "  <button class=\"colab-df-quickchart\" onclick=\"quickchart('df-4de38836-7e15-464e-8971-2a4cac00a443')\"\n",
              "            title=\"Suggest charts.\"\n",
              "            style=\"display:none;\">\n",
              "\n",
              "<svg xmlns=\"http://www.w3.org/2000/svg\" height=\"24px\"viewBox=\"0 0 24 24\"\n",
              "     width=\"24px\">\n",
              "    <g>\n",
              "        <path d=\"M19 3H5c-1.1 0-2 .9-2 2v14c0 1.1.9 2 2 2h14c1.1 0 2-.9 2-2V5c0-1.1-.9-2-2-2zM9 17H7v-7h2v7zm4 0h-2V7h2v10zm4 0h-2v-4h2v4z\"/>\n",
              "    </g>\n",
              "</svg>\n",
              "  </button>\n",
              "\n",
              "<style>\n",
              "  .colab-df-quickchart {\n",
              "      --bg-color: #E8F0FE;\n",
              "      --fill-color: #1967D2;\n",
              "      --hover-bg-color: #E2EBFA;\n",
              "      --hover-fill-color: #174EA6;\n",
              "      --disabled-fill-color: #AAA;\n",
              "      --disabled-bg-color: #DDD;\n",
              "  }\n",
              "\n",
              "  [theme=dark] .colab-df-quickchart {\n",
              "      --bg-color: #3B4455;\n",
              "      --fill-color: #D2E3FC;\n",
              "      --hover-bg-color: #434B5C;\n",
              "      --hover-fill-color: #FFFFFF;\n",
              "      --disabled-bg-color: #3B4455;\n",
              "      --disabled-fill-color: #666;\n",
              "  }\n",
              "\n",
              "  .colab-df-quickchart {\n",
              "    background-color: var(--bg-color);\n",
              "    border: none;\n",
              "    border-radius: 50%;\n",
              "    cursor: pointer;\n",
              "    display: none;\n",
              "    fill: var(--fill-color);\n",
              "    height: 32px;\n",
              "    padding: 0;\n",
              "    width: 32px;\n",
              "  }\n",
              "\n",
              "  .colab-df-quickchart:hover {\n",
              "    background-color: var(--hover-bg-color);\n",
              "    box-shadow: 0 1px 2px rgba(60, 64, 67, 0.3), 0 1px 3px 1px rgba(60, 64, 67, 0.15);\n",
              "    fill: var(--button-hover-fill-color);\n",
              "  }\n",
              "\n",
              "  .colab-df-quickchart-complete:disabled,\n",
              "  .colab-df-quickchart-complete:disabled:hover {\n",
              "    background-color: var(--disabled-bg-color);\n",
              "    fill: var(--disabled-fill-color);\n",
              "    box-shadow: none;\n",
              "  }\n",
              "\n",
              "  .colab-df-spinner {\n",
              "    border: 2px solid var(--fill-color);\n",
              "    border-color: transparent;\n",
              "    border-bottom-color: var(--fill-color);\n",
              "    animation:\n",
              "      spin 1s steps(1) infinite;\n",
              "  }\n",
              "\n",
              "  @keyframes spin {\n",
              "    0% {\n",
              "      border-color: transparent;\n",
              "      border-bottom-color: var(--fill-color);\n",
              "      border-left-color: var(--fill-color);\n",
              "    }\n",
              "    20% {\n",
              "      border-color: transparent;\n",
              "      border-left-color: var(--fill-color);\n",
              "      border-top-color: var(--fill-color);\n",
              "    }\n",
              "    30% {\n",
              "      border-color: transparent;\n",
              "      border-left-color: var(--fill-color);\n",
              "      border-top-color: var(--fill-color);\n",
              "      border-right-color: var(--fill-color);\n",
              "    }\n",
              "    40% {\n",
              "      border-color: transparent;\n",
              "      border-right-color: var(--fill-color);\n",
              "      border-top-color: var(--fill-color);\n",
              "    }\n",
              "    60% {\n",
              "      border-color: transparent;\n",
              "      border-right-color: var(--fill-color);\n",
              "    }\n",
              "    80% {\n",
              "      border-color: transparent;\n",
              "      border-right-color: var(--fill-color);\n",
              "      border-bottom-color: var(--fill-color);\n",
              "    }\n",
              "    90% {\n",
              "      border-color: transparent;\n",
              "      border-bottom-color: var(--fill-color);\n",
              "    }\n",
              "  }\n",
              "</style>\n",
              "\n",
              "  <script>\n",
              "    async function quickchart(key) {\n",
              "      const quickchartButtonEl =\n",
              "        document.querySelector('#' + key + ' button');\n",
              "      quickchartButtonEl.disabled = true;  // To prevent multiple clicks.\n",
              "      quickchartButtonEl.classList.add('colab-df-spinner');\n",
              "      try {\n",
              "        const charts = await google.colab.kernel.invokeFunction(\n",
              "            'suggestCharts', [key], {});\n",
              "      } catch (error) {\n",
              "        console.error('Error during call to suggestCharts:', error);\n",
              "      }\n",
              "      quickchartButtonEl.classList.remove('colab-df-spinner');\n",
              "      quickchartButtonEl.classList.add('colab-df-quickchart-complete');\n",
              "    }\n",
              "    (() => {\n",
              "      let quickchartButtonEl =\n",
              "        document.querySelector('#df-4de38836-7e15-464e-8971-2a4cac00a443 button');\n",
              "      quickchartButtonEl.style.display =\n",
              "        google.colab.kernel.accessAllowed ? 'block' : 'none';\n",
              "    })();\n",
              "  </script>\n",
              "</div>\n",
              "    </div>\n",
              "  </div>\n"
            ],
            "text/plain": [
              "         montrealAPT  montrealCryptXXX  montrealCryptoLocker  \\\n",
              "27                 0                 0                     0   \n",
              "33                 0                 0                     0   \n",
              "98                 0                 0                     0   \n",
              "109                0                 0                     0   \n",
              "121                0                 0                     0   \n",
              "...              ...               ...                   ...   \n",
              "2916667            0                 0                     0   \n",
              "2916668            0                 0                     0   \n",
              "2916680            0                 0                     0   \n",
              "2916688            0                 0                     0   \n",
              "2916694            0                 0                     0   \n",
              "\n",
              "         montrealCryptoTorLocker2015  montrealDMALocker  montrealDMALockerv3  \\\n",
              "27                                 0                  0                    0   \n",
              "33                                 0                  0                    0   \n",
              "98                                 0                  0                    0   \n",
              "109                                0                  0                    0   \n",
              "121                                0                  0                    0   \n",
              "...                              ...                ...                  ...   \n",
              "2916667                            0                  0                    0   \n",
              "2916668                            0                  0                    0   \n",
              "2916680                            0                  0                    0   \n",
              "2916688                            0                  0                    0   \n",
              "2916694                            0                  0                    0   \n",
              "\n",
              "         montrealEDA2  montrealGlobe  montrealGlobeImposter  montrealGlobev3  \\\n",
              "27                  0              0                      0                0   \n",
              "33                  0              0                      0                0   \n",
              "98                  0              0                      0                0   \n",
              "109                 0              0                      0                0   \n",
              "121                 0              0                      0                0   \n",
              "...               ...            ...                    ...              ...   \n",
              "2916667             0              0                      0                0   \n",
              "2916668             0              0                      0                0   \n",
              "2916680             0              0                      0                0   \n",
              "2916688             0              0                      0                0   \n",
              "2916694             0              0                      0                0   \n",
              "\n",
              "         ...  montrealRazy  montrealSam  montrealSamSam  montrealWannaCry  \\\n",
              "27       ...             0            0               0                 0   \n",
              "33       ...             0            0               0                 0   \n",
              "98       ...             0            0               0                 0   \n",
              "109      ...             0            0               0                 0   \n",
              "121      ...             0            0               0                 0   \n",
              "...      ...           ...          ...             ...               ...   \n",
              "2916667  ...             0            0               0                 0   \n",
              "2916668  ...             0            0               0                 0   \n",
              "2916680  ...             0            0               0                 0   \n",
              "2916688  ...             0            0               0                 0   \n",
              "2916694  ...             0            0               0                 0   \n",
              "\n",
              "         montrealXTPLocker  paduaCryptoWall  paduaKeRanger  princetonCerber  \\\n",
              "27                       0                0              0                1   \n",
              "33                       0                0              0                1   \n",
              "98                       0                0              0                1   \n",
              "109                      0                1              0                0   \n",
              "121                      0                1              0                0   \n",
              "...                    ...              ...            ...              ...   \n",
              "2916667                  0                0              0                0   \n",
              "2916668                  0                0              0                0   \n",
              "2916680                  0                0              0                0   \n",
              "2916688                  0                0              0                0   \n",
              "2916694                  0                0              0                0   \n",
              "\n",
              "         princetonLocky  white  \n",
              "27                    0      0  \n",
              "33                    0      0  \n",
              "98                    0      0  \n",
              "109                   0      0  \n",
              "121                   0      0  \n",
              "...                 ...    ...  \n",
              "2916667               0      1  \n",
              "2916668               0      1  \n",
              "2916680               0      1  \n",
              "2916688               0      1  \n",
              "2916694               0      1  \n",
              "\n",
              "[411820 rows x 21 columns]"
            ]
          },
          "execution_count": 17,
          "metadata": {},
          "output_type": "execute_result"
        }
      ],
      "source": [
        "# convert label to categorical\n",
        "df['label'] = df['label'].astype('category')\n",
        "# make a copy of the dataframe\n",
        "df_copy = df.copy()\n",
        "# perform get_dummies on label\n",
        "label_encode = pd.get_dummies(df_copy.label)\n",
        "label_encode"
      ]
    },
    {
      "cell_type": "code",
      "execution_count": 18,
      "id": "f0528b6a",
      "metadata": {
        "colab": {
          "base_uri": "https://localhost:8080/"
        },
        "id": "f0528b6a",
        "outputId": "9cd8fe17-a984-40d7-98d2-468ab23a2eab"
      },
      "outputs": [
        {
          "name": "stdout",
          "output_type": "stream",
          "text": [
            "     length    weight     count    looped  neighbors     income  label_encoded\n",
            "0  2.079442 -4.969813  0.000000  0.000000   0.693147  18.197537              0\n",
            "1  4.969813  0.474460  8.631414  8.096513   0.693147  18.941377              0\n",
            "2  2.484907 -9.939627  0.000000  0.000000   0.693147  18.197537              0\n",
            "3  4.969813  1.299378  7.719130  0.693147   1.791759  19.304364              0\n",
            "4  4.969813 -0.631770  7.579679  7.080868   0.000000  18.323068              0\n"
          ]
        }
      ],
      "source": [
        "# make a new column called 'label_encoded' in df\n",
        "df['label_encoded'] = label_encode.white\n",
        "# drop label column\n",
        "df = df.drop(['label'], axis=1)\n",
        "# reset index\n",
        "df = df.reset_index(drop=True)\n",
        "# get top 5 rows of the dataframe\n",
        "print(df.head())"
      ]
    },
    {
      "cell_type": "code",
      "execution_count": 19,
      "id": "BZMWbrLGvRu0",
      "metadata": {
        "colab": {
          "base_uri": "https://localhost:8080/"
        },
        "id": "BZMWbrLGvRu0",
        "outputId": "e6981b4b-1a40-48ad-fe52-196eba5a4483"
      },
      "outputs": [
        {
          "data": {
            "text/plain": [
              "(411820, 7)"
            ]
          },
          "execution_count": 19,
          "metadata": {},
          "output_type": "execute_result"
        }
      ],
      "source": [
        "df.shape"
      ]
    },
    {
      "cell_type": "code",
      "execution_count": 20,
      "id": "49bd8c7e",
      "metadata": {
        "id": "49bd8c7e"
      },
      "outputs": [],
      "source": [
        "#corelation matrix\n",
        "corr = df.corr()\n",
        "# print(corr)"
      ]
    },
    {
      "cell_type": "code",
      "execution_count": 21,
      "id": "ZLstYHy2BkcH",
      "metadata": {
        "colab": {
          "base_uri": "https://localhost:8080/",
          "height": 522
        },
        "id": "ZLstYHy2BkcH",
        "outputId": "4f953523-c2ee-4420-a580-b4d6a3881b49"
      },
      "outputs": [
        {
          "data": {
            "image/png": "[encoded data removed]",
            "text/plain": [
              "<Figure size 640x480 with 2 Axes>"
            ]
          },
          "metadata": {},
          "output_type": "display_data"
        }
      ],
      "source": [
        "# heatmap\n",
        "sns.heatmap(corr, xticklabels=corr.columns, yticklabels=corr.columns)\n",
        "plt.show()"
      ]
    },
    {
      "cell_type": "code",
      "execution_count": 22,
      "id": "U5P2WsTO7YAc",
      "metadata": {
        "id": "U5P2WsTO7YAc"
      },
      "outputs": [],
      "source": [
        "from sklearn.ensemble import IsolationForest"
      ]
    },
    {
      "cell_type": "code",
      "execution_count": 23,
      "id": "fx0odKEo7imL",
      "metadata": {
        "colab": {
          "base_uri": "https://localhost:8080/",
          "height": 206
        },
        "id": "fx0odKEo7imL",
        "outputId": "024674c0-656b-4adb-c1fc-747846a4fa9c"
      },
      "outputs": [
        {
          "data": {
            "text/html": [
              "\n",
              "  <div id=\"df-2b4790f9-4eb1-44ec-87e9-512a982553c8\" class=\"colab-df-container\">\n",
              "    <div>\n",
              "<style scoped>\n",
              "    .dataframe tbody tr th:only-of-type {\n",
              "        vertical-align: middle;\n",
              "    }\n",
              "\n",
              "    .dataframe tbody tr th {\n",
              "        vertical-align: top;\n",
              "    }\n",
              "\n",
              "    .dataframe thead th {\n",
              "        text-align: right;\n",
              "    }\n",
              "</style>\n",
              "<table border=\"1\" class=\"dataframe\">\n",
              "  <thead>\n",
              "    <tr style=\"text-align: right;\">\n",
              "      <th></th>\n",
              "      <th>length</th>\n",
              "      <th>weight</th>\n",
              "      <th>count</th>\n",
              "      <th>looped</th>\n",
              "      <th>neighbors</th>\n",
              "      <th>income</th>\n",
              "    </tr>\n",
              "  </thead>\n",
              "  <tbody>\n",
              "    <tr>\n",
              "      <th>0</th>\n",
              "      <td>2.079442</td>\n",
              "      <td>-4.969813</td>\n",
              "      <td>0.000000</td>\n",
              "      <td>0.000000</td>\n",
              "      <td>0.693147</td>\n",
              "      <td>18.197537</td>\n",
              "    </tr>\n",
              "    <tr>\n",
              "      <th>1</th>\n",
              "      <td>4.969813</td>\n",
              "      <td>0.474460</td>\n",
              "      <td>8.631414</td>\n",
              "      <td>8.096513</td>\n",
              "      <td>0.693147</td>\n",
              "      <td>18.941377</td>\n",
              "    </tr>\n",
              "    <tr>\n",
              "      <th>2</th>\n",
              "      <td>2.484907</td>\n",
              "      <td>-9.939627</td>\n",
              "      <td>0.000000</td>\n",
              "      <td>0.000000</td>\n",
              "      <td>0.693147</td>\n",
              "      <td>18.197537</td>\n",
              "    </tr>\n",
              "    <tr>\n",
              "      <th>3</th>\n",
              "      <td>4.969813</td>\n",
              "      <td>1.299378</td>\n",
              "      <td>7.719130</td>\n",
              "      <td>0.693147</td>\n",
              "      <td>1.791759</td>\n",
              "      <td>19.304364</td>\n",
              "    </tr>\n",
              "    <tr>\n",
              "      <th>4</th>\n",
              "      <td>4.969813</td>\n",
              "      <td>-0.631770</td>\n",
              "      <td>7.579679</td>\n",
              "      <td>7.080868</td>\n",
              "      <td>0.000000</td>\n",
              "      <td>18.323068</td>\n",
              "    </tr>\n",
              "  </tbody>\n",
              "</table>\n",
              "</div>\n",
              "    <div class=\"colab-df-buttons\">\n",
              "\n",
              "  <div class=\"colab-df-container\">\n",
              "    <button class=\"colab-df-convert\" onclick=\"convertToInteractive('df-2b4790f9-4eb1-44ec-87e9-512a982553c8')\"\n",
              "            title=\"Convert this dataframe to an interactive table.\"\n",
              "            style=\"display:none;\">\n",
              "\n",
              "  <svg xmlns=\"http://www.w3.org/2000/svg\" height=\"24px\" viewBox=\"0 -960 960 960\">\n",
              "    <path d=\"M120-120v-720h720v720H120Zm60-500h600v-160H180v160Zm220 220h160v-160H400v160Zm0 220h160v-160H400v160ZM180-400h160v-160H180v160Zm440 0h160v-160H620v160ZM180-180h160v-160H180v160Zm440 0h160v-160H620v160Z\"/>\n",
              "  </svg>\n",
              "    </button>\n",
              "\n",
              "  <style>\n",
              "    .colab-df-container {\n",
              "      display:flex;\n",
              "      gap: 12px;\n",
              "    }\n",
              "\n",
              "    .colab-df-convert {\n",
              "      background-color: #E8F0FE;\n",
              "      border: none;\n",
              "      border-radius: 50%;\n",
              "      cursor: pointer;\n",
              "      display: none;\n",
              "      fill: #1967D2;\n",
              "      height: 32px;\n",
              "      padding: 0 0 0 0;\n",
              "      width: 32px;\n",
              "    }\n",
              "\n",
              "    .colab-df-convert:hover {\n",
              "      background-color: #E2EBFA;\n",
              "      box-shadow: 0px 1px 2px rgba(60, 64, 67, 0.3), 0px 1px 3px 1px rgba(60, 64, 67, 0.15);\n",
              "      fill: #174EA6;\n",
              "    }\n",
              "\n",
              "    .colab-df-buttons div {\n",
              "      margin-bottom: 4px;\n",
              "    }\n",
              "\n",
              "    [theme=dark] .colab-df-convert {\n",
              "      background-color: #3B4455;\n",
              "      fill: #D2E3FC;\n",
              "    }\n",
              "\n",
              "    [theme=dark] .colab-df-convert:hover {\n",
              "      background-color: #434B5C;\n",
              "      box-shadow: 0px 1px 3px 1px rgba(0, 0, 0, 0.15);\n",
              "      filter: drop-shadow(0px 1px 2px rgba(0, 0, 0, 0.3));\n",
              "      fill: #FFFFFF;\n",
              "    }\n",
              "  </style>\n",
              "\n",
              "    <script>\n",
              "      const buttonEl =\n",
              "        document.querySelector('#df-2b4790f9-4eb1-44ec-87e9-512a982553c8 button.colab-df-convert');\n",
              "      buttonEl.style.display =\n",
              "        google.colab.kernel.accessAllowed ? 'block' : 'none';\n",
              "\n",
              "      async function convertToInteractive(key) {\n",
              "        const element = document.querySelector('#df-2b4790f9-4eb1-44ec-87e9-512a982553c8');\n",
              "        const dataTable =\n",
              "          await google.colab.kernel.invokeFunction('convertToInteractive',\n",
              "                                                    [key], {});\n",
              "        if (!dataTable) return;\n",
              "\n",
              "        const docLinkHtml = 'Like what you see? Visit the ' +\n",
              "          '<a target=\"_blank\" href=https://colab.research.google.com/notebooks/data_table.ipynb>data table notebook</a>'\n",
              "          + ' to learn more about interactive tables.';\n",
              "        element.innerHTML = '';\n",
              "        dataTable['output_type'] = 'display_data';\n",
              "        await google.colab.output.renderOutput(dataTable, element);\n",
              "        const docLink = document.createElement('div');\n",
              "        docLink.innerHTML = docLinkHtml;\n",
              "        element.appendChild(docLink);\n",
              "      }\n",
              "    </script>\n",
              "  </div>\n",
              "\n",
              "\n",
              "<div id=\"df-694f7307-ec7f-4887-9907-18c9fa80415a\">\n",
              "  <button class=\"colab-df-quickchart\" onclick=\"quickchart('df-694f7307-ec7f-4887-9907-18c9fa80415a')\"\n",
              "            title=\"Suggest charts.\"\n",
              "            style=\"display:none;\">\n",
              "\n",
              "<svg xmlns=\"http://www.w3.org/2000/svg\" height=\"24px\"viewBox=\"0 0 24 24\"\n",
              "     width=\"24px\">\n",
              "    <g>\n",
              "        <path d=\"M19 3H5c-1.1 0-2 .9-2 2v14c0 1.1.9 2 2 2h14c1.1 0 2-.9 2-2V5c0-1.1-.9-2-2-2zM9 17H7v-7h2v7zm4 0h-2V7h2v10zm4 0h-2v-4h2v4z\"/>\n",
              "    </g>\n",
              "</svg>\n",
              "  </button>\n",
              "\n",
              "<style>\n",
              "  .colab-df-quickchart {\n",
              "      --bg-color: #E8F0FE;\n",
              "      --fill-color: #1967D2;\n",
              "      --hover-bg-color: #E2EBFA;\n",
              "      --hover-fill-color: #174EA6;\n",
              "      --disabled-fill-color: #AAA;\n",
              "      --disabled-bg-color: #DDD;\n",
              "  }\n",
              "\n",
              "  [theme=dark] .colab-df-quickchart {\n",
              "      --bg-color: #3B4455;\n",
              "      --fill-color: #D2E3FC;\n",
              "      --hover-bg-color: #434B5C;\n",
              "      --hover-fill-color: #FFFFFF;\n",
              "      --disabled-bg-color: #3B4455;\n",
              "      --disabled-fill-color: #666;\n",
              "  }\n",
              "\n",
              "  .colab-df-quickchart {\n",
              "    background-color: var(--bg-color);\n",
              "    border: none;\n",
              "    border-radius: 50%;\n",
              "    cursor: pointer;\n",
              "    display: none;\n",
              "    fill: var(--fill-color);\n",
              "    height: 32px;\n",
              "    padding: 0;\n",
              "    width: 32px;\n",
              "  }\n",
              "\n",
              "  .colab-df-quickchart:hover {\n",
              "    background-color: var(--hover-bg-color);\n",
              "    box-shadow: 0 1px 2px rgba(60, 64, 67, 0.3), 0 1px 3px 1px rgba(60, 64, 67, 0.15);\n",
              "    fill: var(--button-hover-fill-color);\n",
              "  }\n",
              "\n",
              "  .colab-df-quickchart-complete:disabled,\n",
              "  .colab-df-quickchart-complete:disabled:hover {\n",
              "    background-color: var(--disabled-bg-color);\n",
              "    fill: var(--disabled-fill-color);\n",
              "    box-shadow: none;\n",
              "  }\n",
              "\n",
              "  .colab-df-spinner {\n",
              "    border: 2px solid var(--fill-color);\n",
              "    border-color: transparent;\n",
              "    border-bottom-color: var(--fill-color);\n",
              "    animation:\n",
              "      spin 1s steps(1) infinite;\n",
              "  }\n",
              "\n",
              "  @keyframes spin {\n",
              "    0% {\n",
              "      border-color: transparent;\n",
              "      border-bottom-color: var(--fill-color);\n",
              "      border-left-color: var(--fill-color);\n",
              "    }\n",
              "    20% {\n",
              "      border-color: transparent;\n",
              "      border-left-color: var(--fill-color);\n",
              "      border-top-color: var(--fill-color);\n",
              "    }\n",
              "    30% {\n",
              "      border-color: transparent;\n",
              "      border-left-color: var(--fill-color);\n",
              "      border-top-color: var(--fill-color);\n",
              "      border-right-color: var(--fill-color);\n",
              "    }\n",
              "    40% {\n",
              "      border-color: transparent;\n",
              "      border-right-color: var(--fill-color);\n",
              "      border-top-color: var(--fill-color);\n",
              "    }\n",
              "    60% {\n",
              "      border-color: transparent;\n",
              "      border-right-color: var(--fill-color);\n",
              "    }\n",
              "    80% {\n",
              "      border-color: transparent;\n",
              "      border-right-color: var(--fill-color);\n",
              "      border-bottom-color: var(--fill-color);\n",
              "    }\n",
              "    90% {\n",
              "      border-color: transparent;\n",
              "      border-bottom-color: var(--fill-color);\n",
              "    }\n",
              "  }\n",
              "</style>\n",
              "\n",
              "  <script>\n",
              "    async function quickchart(key) {\n",
              "      const quickchartButtonEl =\n",
              "        document.querySelector('#' + key + ' button');\n",
              "      quickchartButtonEl.disabled = true;  // To prevent multiple clicks.\n",
              "      quickchartButtonEl.classList.add('colab-df-spinner');\n",
              "      try {\n",
              "        const charts = await google.colab.kernel.invokeFunction(\n",
              "            'suggestCharts', [key], {});\n",
              "      } catch (error) {\n",
              "        console.error('Error during call to suggestCharts:', error);\n",
              "      }\n",
              "      quickchartButtonEl.classList.remove('colab-df-spinner');\n",
              "      quickchartButtonEl.classList.add('colab-df-quickchart-complete');\n",
              "    }\n",
              "    (() => {\n",
              "      let quickchartButtonEl =\n",
              "        document.querySelector('#df-694f7307-ec7f-4887-9907-18c9fa80415a button');\n",
              "      quickchartButtonEl.style.display =\n",
              "        google.colab.kernel.accessAllowed ? 'block' : 'none';\n",
              "    })();\n",
              "  </script>\n",
              "</div>\n",
              "    </div>\n",
              "  </div>\n"
            ],
            "text/plain": [
              "     length    weight     count    looped  neighbors     income\n",
              "0  2.079442 -4.969813  0.000000  0.000000   0.693147  18.197537\n",
              "1  4.969813  0.474460  8.631414  8.096513   0.693147  18.941377\n",
              "2  2.484907 -9.939627  0.000000  0.000000   0.693147  18.197537\n",
              "3  4.969813  1.299378  7.719130  0.693147   1.791759  19.304364\n",
              "4  4.969813 -0.631770  7.579679  7.080868   0.000000  18.323068"
            ]
          },
          "execution_count": 23,
          "metadata": {},
          "output_type": "execute_result"
        }
      ],
      "source": [
        "check_cols=['length','weight','count','looped','neighbors','income']\n",
        "train_set=df[check_cols]\n",
        "train_set.head()"
      ]
    },
    {
      "cell_type": "code",
      "execution_count": 24,
      "id": "Gq7KQfBH7sAL",
      "metadata": {
        "id": "Gq7KQfBH7sAL"
      },
      "outputs": [],
      "source": [
        "clf=IsolationForest(n_jobs=6,random_state=23,contamination=0.01)\n",
        "clf.fit(train_set)\n",
        "y_pred_train=clf.predict(train_set)"
      ]
    },
    {
      "cell_type": "code",
      "execution_count": 25,
      "id": "AhteHBod8OpY",
      "metadata": {
        "colab": {
          "base_uri": "https://localhost:8080/"
        },
        "id": "AhteHBod8OpY",
        "outputId": "a1c4d0a7-5321-452c-c250-271a4f629b9c"
      },
      "outputs": [
        {
          "data": {
            "text/plain": [
              " 1    407701\n",
              "-1      4119\n",
              "dtype: int64"
            ]
          },
          "execution_count": 25,
          "metadata": {},
          "output_type": "execute_result"
        }
      ],
      "source": [
        "pd.value_counts(y_pred_train)"
      ]
    },
    {
      "cell_type": "code",
      "execution_count": 26,
      "id": "jRLKHQK71ND8",
      "metadata": {
        "id": "jRLKHQK71ND8"
      },
      "outputs": [],
      "source": [
        "X_cleaned=train_set[y_pred_train==1]"
      ]
    },
    {
      "cell_type": "code",
      "execution_count": 27,
      "id": "exrKwVtg1hrs",
      "metadata": {
        "id": "exrKwVtg1hrs"
      },
      "outputs": [],
      "source": [
        "y_cleaned=df['label_encoded'][y_pred_train==1]"
      ]
    },
    {
      "cell_type": "code",
      "execution_count": 28,
      "id": "ETOae2u91uv0",
      "metadata": {
        "colab": {
          "base_uri": "https://localhost:8080/",
          "height": 423
        },
        "id": "ETOae2u91uv0",
        "outputId": "dd53f9c9-08a1-4652-93c7-8b9b4424c665"
      },
      "outputs": [
        {
          "data": {
            "text/html": [
              "\n",
              "  <div id=\"df-ac2a2c04-7d89-47a2-8f98-b209fd7acbef\" class=\"colab-df-container\">\n",
              "    <div>\n",
              "<style scoped>\n",
              "    .dataframe tbody tr th:only-of-type {\n",
              "        vertical-align: middle;\n",
              "    }\n",
              "\n",
              "    .dataframe tbody tr th {\n",
              "        vertical-align: top;\n",
              "    }\n",
              "\n",
              "    .dataframe thead th {\n",
              "        text-align: right;\n",
              "    }\n",
              "</style>\n",
              "<table border=\"1\" class=\"dataframe\">\n",
              "  <thead>\n",
              "    <tr style=\"text-align: right;\">\n",
              "      <th></th>\n",
              "      <th>length</th>\n",
              "      <th>weight</th>\n",
              "      <th>count</th>\n",
              "      <th>looped</th>\n",
              "      <th>neighbors</th>\n",
              "      <th>income</th>\n",
              "    </tr>\n",
              "  </thead>\n",
              "  <tbody>\n",
              "    <tr>\n",
              "      <th>0</th>\n",
              "      <td>2.079442</td>\n",
              "      <td>-4.969813</td>\n",
              "      <td>0.000000</td>\n",
              "      <td>0.000000</td>\n",
              "      <td>0.693147</td>\n",
              "      <td>18.197537</td>\n",
              "    </tr>\n",
              "    <tr>\n",
              "      <th>1</th>\n",
              "      <td>4.969813</td>\n",
              "      <td>0.474460</td>\n",
              "      <td>8.631414</td>\n",
              "      <td>8.096513</td>\n",
              "      <td>0.693147</td>\n",
              "      <td>18.941377</td>\n",
              "    </tr>\n",
              "    <tr>\n",
              "      <th>2</th>\n",
              "      <td>2.484907</td>\n",
              "      <td>-9.939627</td>\n",
              "      <td>0.000000</td>\n",
              "      <td>0.000000</td>\n",
              "      <td>0.693147</td>\n",
              "      <td>18.197537</td>\n",
              "    </tr>\n",
              "    <tr>\n",
              "      <th>3</th>\n",
              "      <td>4.969813</td>\n",
              "      <td>1.299378</td>\n",
              "      <td>7.719130</td>\n",
              "      <td>0.693147</td>\n",
              "      <td>1.791759</td>\n",
              "      <td>19.304364</td>\n",
              "    </tr>\n",
              "    <tr>\n",
              "      <th>4</th>\n",
              "      <td>4.969813</td>\n",
              "      <td>-0.631770</td>\n",
              "      <td>7.579679</td>\n",
              "      <td>7.080868</td>\n",
              "      <td>0.000000</td>\n",
              "      <td>18.323068</td>\n",
              "    </tr>\n",
              "    <tr>\n",
              "      <th>...</th>\n",
              "      <td>...</td>\n",
              "      <td>...</td>\n",
              "      <td>...</td>\n",
              "      <td>...</td>\n",
              "      <td>...</td>\n",
              "      <td>...</td>\n",
              "    </tr>\n",
              "    <tr>\n",
              "      <th>411814</th>\n",
              "      <td>0.693147</td>\n",
              "      <td>0.347667</td>\n",
              "      <td>0.693147</td>\n",
              "      <td>0.693147</td>\n",
              "      <td>1.791759</td>\n",
              "      <td>20.240032</td>\n",
              "    </tr>\n",
              "    <tr>\n",
              "      <th>411815</th>\n",
              "      <td>4.969813</td>\n",
              "      <td>-0.281698</td>\n",
              "      <td>9.017605</td>\n",
              "      <td>9.017605</td>\n",
              "      <td>1.609438</td>\n",
              "      <td>21.682758</td>\n",
              "    </tr>\n",
              "    <tr>\n",
              "      <th>411816</th>\n",
              "      <td>4.969813</td>\n",
              "      <td>-1.834454</td>\n",
              "      <td>8.645586</td>\n",
              "      <td>1.386294</td>\n",
              "      <td>1.386294</td>\n",
              "      <td>19.988793</td>\n",
              "    </tr>\n",
              "    <tr>\n",
              "      <th>411817</th>\n",
              "      <td>4.969813</td>\n",
              "      <td>-0.332051</td>\n",
              "      <td>9.017605</td>\n",
              "      <td>9.017605</td>\n",
              "      <td>1.098612</td>\n",
              "      <td>21.073504</td>\n",
              "    </tr>\n",
              "    <tr>\n",
              "      <th>411818</th>\n",
              "      <td>4.969813</td>\n",
              "      <td>-1.525782</td>\n",
              "      <td>9.017605</td>\n",
              "      <td>9.017605</td>\n",
              "      <td>0.693147</td>\n",
              "      <td>19.113578</td>\n",
              "    </tr>\n",
              "  </tbody>\n",
              "</table>\n",
              "<p>407701 rows × 6 columns</p>\n",
              "</div>\n",
              "    <div class=\"colab-df-buttons\">\n",
              "\n",
              "  <div class=\"colab-df-container\">\n",
              "    <button class=\"colab-df-convert\" onclick=\"convertToInteractive('df-ac2a2c04-7d89-47a2-8f98-b209fd7acbef')\"\n",
              "            title=\"Convert this dataframe to an interactive table.\"\n",
              "            style=\"display:none;\">\n",
              "\n",
              "  <svg xmlns=\"http://www.w3.org/2000/svg\" height=\"24px\" viewBox=\"0 -960 960 960\">\n",
              "    <path d=\"M120-120v-720h720v720H120Zm60-500h600v-160H180v160Zm220 220h160v-160H400v160Zm0 220h160v-160H400v160ZM180-400h160v-160H180v160Zm440 0h160v-160H620v160ZM180-180h160v-160H180v160Zm440 0h160v-160H620v160Z\"/>\n",
              "  </svg>\n",
              "    </button>\n",
              "\n",
              "  <style>\n",
              "    .colab-df-container {\n",
              "      display:flex;\n",
              "      gap: 12px;\n",
              "    }\n",
              "\n",
              "    .colab-df-convert {\n",
              "      background-color: #E8F0FE;\n",
              "      border: none;\n",
              "      border-radius: 50%;\n",
              "      cursor: pointer;\n",
              "      display: none;\n",
              "      fill: #1967D2;\n",
              "      height: 32px;\n",
              "      padding: 0 0 0 0;\n",
              "      width: 32px;\n",
              "    }\n",
              "\n",
              "    .colab-df-convert:hover {\n",
              "      background-color: #E2EBFA;\n",
              "      box-shadow: 0px 1px 2px rgba(60, 64, 67, 0.3), 0px 1px 3px 1px rgba(60, 64, 67, 0.15);\n",
              "      fill: #174EA6;\n",
              "    }\n",
              "\n",
              "    .colab-df-buttons div {\n",
              "      margin-bottom: 4px;\n",
              "    }\n",
              "\n",
              "    [theme=dark] .colab-df-convert {\n",
              "      background-color: #3B4455;\n",
              "      fill: #D2E3FC;\n",
              "    }\n",
              "\n",
              "    [theme=dark] .colab-df-convert:hover {\n",
              "      background-color: #434B5C;\n",
              "      box-shadow: 0px 1px 3px 1px rgba(0, 0, 0, 0.15);\n",
              "      filter: drop-shadow(0px 1px 2px rgba(0, 0, 0, 0.3));\n",
              "      fill: #FFFFFF;\n",
              "    }\n",
              "  </style>\n",
              "\n",
              "    <script>\n",
              "      const buttonEl =\n",
              "        document.querySelector('#df-ac2a2c04-7d89-47a2-8f98-b209fd7acbef button.colab-df-convert');\n",
              "      buttonEl.style.display =\n",
              "        google.colab.kernel.accessAllowed ? 'block' : 'none';\n",
              "\n",
              "      async function convertToInteractive(key) {\n",
              "        const element = document.querySelector('#df-ac2a2c04-7d89-47a2-8f98-b209fd7acbef');\n",
              "        const dataTable =\n",
              "          await google.colab.kernel.invokeFunction('convertToInteractive',\n",
              "                                                    [key], {});\n",
              "        if (!dataTable) return;\n",
              "\n",
              "        const docLinkHtml = 'Like what you see? Visit the ' +\n",
              "          '<a target=\"_blank\" href=https://colab.research.google.com/notebooks/data_table.ipynb>data table notebook</a>'\n",
              "          + ' to learn more about interactive tables.';\n",
              "        element.innerHTML = '';\n",
              "        dataTable['output_type'] = 'display_data';\n",
              "        await google.colab.output.renderOutput(dataTable, element);\n",
              "        const docLink = document.createElement('div');\n",
              "        docLink.innerHTML = docLinkHtml;\n",
              "        element.appendChild(docLink);\n",
              "      }\n",
              "    </script>\n",
              "  </div>\n",
              "\n",
              "\n",
              "<div id=\"df-ea526c63-7362-4293-a2f0-d6e15da72c04\">\n",
              "  <button class=\"colab-df-quickchart\" onclick=\"quickchart('df-ea526c63-7362-4293-a2f0-d6e15da72c04')\"\n",
              "            title=\"Suggest charts.\"\n",
              "            style=\"display:none;\">\n",
              "\n",
              "<svg xmlns=\"http://www.w3.org/2000/svg\" height=\"24px\"viewBox=\"0 0 24 24\"\n",
              "     width=\"24px\">\n",
              "    <g>\n",
              "        <path d=\"M19 3H5c-1.1 0-2 .9-2 2v14c0 1.1.9 2 2 2h14c1.1 0 2-.9 2-2V5c0-1.1-.9-2-2-2zM9 17H7v-7h2v7zm4 0h-2V7h2v10zm4 0h-2v-4h2v4z\"/>\n",
              "    </g>\n",
              "</svg>\n",
              "  </button>\n",
              "\n",
              "<style>\n",
              "  .colab-df-quickchart {\n",
              "      --bg-color: #E8F0FE;\n",
              "      --fill-color: #1967D2;\n",
              "      --hover-bg-color: #E2EBFA;\n",
              "      --hover-fill-color: #174EA6;\n",
              "      --disabled-fill-color: #AAA;\n",
              "      --disabled-bg-color: #DDD;\n",
              "  }\n",
              "\n",
              "  [theme=dark] .colab-df-quickchart {\n",
              "      --bg-color: #3B4455;\n",
              "      --fill-color: #D2E3FC;\n",
              "      --hover-bg-color: #434B5C;\n",
              "      --hover-fill-color: #FFFFFF;\n",
              "      --disabled-bg-color: #3B4455;\n",
              "      --disabled-fill-color: #666;\n",
              "  }\n",
              "\n",
              "  .colab-df-quickchart {\n",
              "    background-color: var(--bg-color);\n",
              "    border: none;\n",
              "    border-radius: 50%;\n",
              "    cursor: pointer;\n",
              "    display: none;\n",
              "    fill: var(--fill-color);\n",
              "    height: 32px;\n",
              "    padding: 0;\n",
              "    width: 32px;\n",
              "  }\n",
              "\n",
              "  .colab-df-quickchart:hover {\n",
              "    background-color: var(--hover-bg-color);\n",
              "    box-shadow: 0 1px 2px rgba(60, 64, 67, 0.3), 0 1px 3px 1px rgba(60, 64, 67, 0.15);\n",
              "    fill: var(--button-hover-fill-color);\n",
              "  }\n",
              "\n",
              "  .colab-df-quickchart-complete:disabled,\n",
              "  .colab-df-quickchart-complete:disabled:hover {\n",
              "    background-color: var(--disabled-bg-color);\n",
              "    fill: var(--disabled-fill-color);\n",
              "    box-shadow: none;\n",
              "  }\n",
              "\n",
              "  .colab-df-spinner {\n",
              "    border: 2px solid var(--fill-color);\n",
              "    border-color: transparent;\n",
              "    border-bottom-color: var(--fill-color);\n",
              "    animation:\n",
              "      spin 1s steps(1) infinite;\n",
              "  }\n",
              "\n",
              "  @keyframes spin {\n",
              "    0% {\n",
              "      border-color: transparent;\n",
              "      border-bottom-color: var(--fill-color);\n",
              "      border-left-color: var(--fill-color);\n",
              "    }\n",
              "    20% {\n",
              "      border-color: transparent;\n",
              "      border-left-color: var(--fill-color);\n",
              "      border-top-color: var(--fill-color);\n",
              "    }\n",
              "    30% {\n",
              "      border-color: transparent;\n",
              "      border-left-color: var(--fill-color);\n",
              "      border-top-color: var(--fill-color);\n",
              "      border-right-color: var(--fill-color);\n",
              "    }\n",
              "    40% {\n",
              "      border-color: transparent;\n",
              "      border-right-color: var(--fill-color);\n",
              "      border-top-color: var(--fill-color);\n",
              "    }\n",
              "    60% {\n",
              "      border-color: transparent;\n",
              "      border-right-color: var(--fill-color);\n",
              "    }\n",
              "    80% {\n",
              "      border-color: transparent;\n",
              "      border-right-color: var(--fill-color);\n",
              "      border-bottom-color: var(--fill-color);\n",
              "    }\n",
              "    90% {\n",
              "      border-color: transparent;\n",
              "      border-bottom-color: var(--fill-color);\n",
              "    }\n",
              "  }\n",
              "</style>\n",
              "\n",
              "  <script>\n",
              "    async function quickchart(key) {\n",
              "      const quickchartButtonEl =\n",
              "        document.querySelector('#' + key + ' button');\n",
              "      quickchartButtonEl.disabled = true;  // To prevent multiple clicks.\n",
              "      quickchartButtonEl.classList.add('colab-df-spinner');\n",
              "      try {\n",
              "        const charts = await google.colab.kernel.invokeFunction(\n",
              "            'suggestCharts', [key], {});\n",
              "      } catch (error) {\n",
              "        console.error('Error during call to suggestCharts:', error);\n",
              "      }\n",
              "      quickchartButtonEl.classList.remove('colab-df-spinner');\n",
              "      quickchartButtonEl.classList.add('colab-df-quickchart-complete');\n",
              "    }\n",
              "    (() => {\n",
              "      let quickchartButtonEl =\n",
              "        document.querySelector('#df-ea526c63-7362-4293-a2f0-d6e15da72c04 button');\n",
              "      quickchartButtonEl.style.display =\n",
              "        google.colab.kernel.accessAllowed ? 'block' : 'none';\n",
              "    })();\n",
              "  </script>\n",
              "</div>\n",
              "    </div>\n",
              "  </div>\n"
            ],
            "text/plain": [
              "          length    weight     count    looped  neighbors     income\n",
              "0       2.079442 -4.969813  0.000000  0.000000   0.693147  18.197537\n",
              "1       4.969813  0.474460  8.631414  8.096513   0.693147  18.941377\n",
              "2       2.484907 -9.939627  0.000000  0.000000   0.693147  18.197537\n",
              "3       4.969813  1.299378  7.719130  0.693147   1.791759  19.304364\n",
              "4       4.969813 -0.631770  7.579679  7.080868   0.000000  18.323068\n",
              "...          ...       ...       ...       ...        ...        ...\n",
              "411814  0.693147  0.347667  0.693147  0.693147   1.791759  20.240032\n",
              "411815  4.969813 -0.281698  9.017605  9.017605   1.609438  21.682758\n",
              "411816  4.969813 -1.834454  8.645586  1.386294   1.386294  19.988793\n",
              "411817  4.969813 -0.332051  9.017605  9.017605   1.098612  21.073504\n",
              "411818  4.969813 -1.525782  9.017605  9.017605   0.693147  19.113578\n",
              "\n",
              "[407701 rows x 6 columns]"
            ]
          },
          "execution_count": 28,
          "metadata": {},
          "output_type": "execute_result"
        }
      ],
      "source": [
        "X_cleaned"
      ]
    },
    {
      "cell_type": "code",
      "execution_count": 29,
      "id": "8p3lK9mI1xHp",
      "metadata": {
        "colab": {
          "base_uri": "https://localhost:8080/"
        },
        "id": "8p3lK9mI1xHp",
        "outputId": "9363d0a9-b4b8-4abd-aded-2e3f6e39ccca"
      },
      "outputs": [
        {
          "data": {
            "text/plain": [
              "1    403239\n",
              "0      4462\n",
              "Name: label_encoded, dtype: int64"
            ]
          },
          "execution_count": 29,
          "metadata": {},
          "output_type": "execute_result"
        }
      ],
      "source": [
        "y_cleaned.value_counts()"
      ]
    },
    {
      "cell_type": "code",
      "execution_count": 30,
      "id": "opqC4Pe14T8K",
      "metadata": {
        "id": "opqC4Pe14T8K"
      },
      "outputs": [],
      "source": [
        "from imblearn.over_sampling import SMOTE"
      ]
    },
    {
      "cell_type": "code",
      "execution_count": 31,
      "id": "YBHFKSY34Wdt",
      "metadata": {
        "id": "YBHFKSY34Wdt"
      },
      "outputs": [],
      "source": [
        "smote = SMOTE(random_state=42)\n",
        "X_resampled, y_resampled = smote.fit_resample(X_cleaned, y_cleaned)"
      ]
    },
    {
      "cell_type": "code",
      "execution_count": 32,
      "id": "wo8OJl-F6gKF",
      "metadata": {
        "colab": {
          "base_uri": "https://localhost:8080/"
        },
        "id": "wo8OJl-F6gKF",
        "outputId": "937bd9ae-b68f-40ff-bd00-9eb1ac97216b"
      },
      "outputs": [
        {
          "name": "stdout",
          "output_type": "stream",
          "text": [
            "(407701, 6) (806478, 6)\n"
          ]
        }
      ],
      "source": [
        "print(X_cleaned.shape,X_resampled.shape)"
      ]
    },
    {
      "cell_type": "code",
      "execution_count": 33,
      "id": "EtGVYSUq7efE",
      "metadata": {
        "colab": {
          "base_uri": "https://localhost:8080/"
        },
        "id": "EtGVYSUq7efE",
        "outputId": "6658b268-b296-4f8b-81a3-48a59bd40359"
      },
      "outputs": [
        {
          "name": "stdout",
          "output_type": "stream",
          "text": [
            "0    50.0\n",
            "1    50.0\n",
            "Name: label_encoded, dtype: float64\n"
          ]
        }
      ],
      "source": [
        "print(y_resampled.value_counts(normalize=True)*100)"
      ]
    },
    {
      "cell_type": "code",
      "execution_count": 34,
      "id": "ZtFGUqDM7JJY",
      "metadata": {
        "colab": {
          "base_uri": "https://localhost:8080/",
          "height": 539
        },
        "id": "ZtFGUqDM7JJY",
        "outputId": "57afef7e-4a8e-4b59-fc5c-6db914dcb8b6"
      },
      "outputs": [
        {
          "data": {
            "text/plain": [
              "<BarContainer object of 2 artists>"
            ]
          },
          "execution_count": 34,
          "metadata": {},
          "output_type": "execute_result"
        },
        {
          "data": {
            "image/png": "[encoded data removed]",
            "text/plain": [
              "<Figure size 800x600 with 1 Axes>"
            ]
          },
          "metadata": {},
          "output_type": "display_data"
        }
      ],
      "source": [
        "# check if the dataframe is balanced\n",
        "bw_white = []\n",
        "bw_black = []\n",
        "for element in y_resampled:\n",
        "    if element == 1:\n",
        "        bw_white.append(element)\n",
        "    else:\n",
        "        bw_black.append(element)\n",
        "\n",
        "x_ax = ['White','Black']\n",
        "y_ax = [len(bw_white),len(bw_black)]\n",
        "\n",
        "plt.figure(figsize = (8,6))\n",
        "plt.bar(x_ax,y_ax)\n",
        "# plt.savefig(\"balanced.png\")"
      ]
    },
    {
      "cell_type": "markdown",
      "id": "ecDYT_-kvdAy",
      "metadata": {
        "id": "ecDYT_-kvdAy"
      },
      "source": [
        "## Train Test Split"
      ]
    },
    {
      "cell_type": "markdown",
      "id": "LnJ09yiS63hS",
      "metadata": {
        "id": "LnJ09yiS63hS"
      },
      "source": [
        "Outlier Detection Method: Isolation forest\n",
        "\n",
        "Algorithm : Gradient Boosting\n",
        "\n",
        "Imbalanced Data Handling: Manual addition\n",
        "\n",
        "Train test split: 70:30"
      ]
    },
    {
      "cell_type": "code",
      "execution_count": 35,
      "id": "JXrVSNA34ywX",
      "metadata": {
        "colab": {
          "base_uri": "https://localhost:8080/"
        },
        "id": "JXrVSNA34ywX",
        "outputId": "a81f2302-9ddb-4625-f180-7de8607f5941"
      },
      "outputs": [
        {
          "name": "stdout",
          "output_type": "stream",
          "text": [
            "(564534, 6) (241944, 6)\n"
          ]
        }
      ],
      "source": [
        "X_train, X_test, y_train, y_test = train_test_split(X_resampled, y_resampled, test_size=0.3, random_state=42)\n",
        "print(X_train.shape,X_test.shape)"
      ]
    },
    {
      "cell_type": "code",
      "execution_count": 36,
      "id": "C5Q75fPq4cMY",
      "metadata": {
        "id": "C5Q75fPq4cMY"
      },
      "outputs": [],
      "source": [
        "from sklearn.preprocessing import RobustScaler\n",
        "# scale the data\n",
        "scaler = RobustScaler()\n",
        "# fit the scaler\n",
        "scaler.fit(X_train)\n",
        "# transform the data\n",
        "X_train = scaler.transform(X_train)\n",
        "X_test = scaler.transform(X_test)"
      ]
    },
    {
      "cell_type": "code",
      "execution_count": 37,
      "id": "_LEWOJd246QT",
      "metadata": {
        "colab": {
          "base_uri": "https://localhost:8080/"
        },
        "id": "_LEWOJd246QT",
        "outputId": "a10e16ce-d4b7-4581-e994-0c8418ff82fe"
      },
      "outputs": [
        {
          "name": "stdout",
          "output_type": "stream",
          "text": [
            "0.8476878947194392\n"
          ]
        }
      ],
      "source": [
        "# gradient boosting model\n",
        "from sklearn.ensemble import GradientBoostingClassifier\n",
        "# create a gradient boosting model with 100 trees\n",
        "gb = GradientBoostingClassifier(n_estimators=100)\n",
        "# fit the model\n",
        "gb.fit(X_train, y_train)\n",
        "# predict the labels\n",
        "y_pred = gb.predict(X_test)\n",
        "# get the accuracy score\n",
        "print(gb.score(X_test, y_test))"
      ]
    },
    {
      "cell_type": "code",
      "execution_count": 38,
      "id": "sZauqyxa5K_6",
      "metadata": {
        "colab": {
          "base_uri": "https://localhost:8080/"
        },
        "id": "sZauqyxa5K_6",
        "outputId": "dc77309e-e8d6-4a94-8fba-f30e96b46bcc"
      },
      "outputs": [
        {
          "name": "stdout",
          "output_type": "stream",
          "text": [
            "[[107419  13599]\n",
            " [ 23252  97674]]\n"
          ]
        }
      ],
      "source": [
        "# get the confusion matrix\n",
        "cm = confusion_matrix(y_test, y_pred)\n",
        "print(cm)"
      ]
    },
    {
      "cell_type": "code",
      "execution_count": 39,
      "id": "ZQmUd41U5K_6",
      "metadata": {
        "colab": {
          "base_uri": "https://localhost:8080/"
        },
        "id": "ZQmUd41U5K_6",
        "outputId": "a9212618-b408-4311-c801-0d4b3f605974"
      },
      "outputs": [
        {
          "name": "stdout",
          "output_type": "stream",
          "text": [
            "              precision    recall  f1-score   support\n",
            "\n",
            "           0       0.82      0.89      0.85    121018\n",
            "           1       0.88      0.81      0.84    120926\n",
            "\n",
            "    accuracy                           0.85    241944\n",
            "   macro avg       0.85      0.85      0.85    241944\n",
            "weighted avg       0.85      0.85      0.85    241944\n",
            "\n"
          ]
        }
      ],
      "source": [
        "# get the classification report\n",
        "print(classification_report(y_test, y_pred))"
      ]
    },
    {
      "cell_type": "code",
      "execution_count": 42,
      "id": "uiKGqdSm5K_7",
      "metadata": {
        "colab": {
          "base_uri": "https://localhost:8080/"
        },
        "id": "uiKGqdSm5K_7",
        "outputId": "d2a1ab89-97d0-4ed4-844d-7859c08f2e76"
      },
      "outputs": [
        {
          "name": "stdout",
          "output_type": "stream",
          "text": [
            "Recall Score 0.807717116252915\n",
            "Precision Score:  0.8777870642473915\n",
            "F1 Score:  0.84129561281487\n",
            "Accuracy Score:  0.8476878947194392\n",
            "ROC Score 0.8476727014770336\n"
          ]
        }
      ],
      "source": [
        "from sklearn.metrics import recall_score, precision_score, f1_score, accuracy_score\n",
        "print('Recall Score',(recall_score(y_test, y_pred)))\n",
        "print('Precision Score: ',(precision_score(y_test, y_pred)))\n",
        "print('F1 Score: ',(f1_score(y_test, y_pred)))\n",
        "print('Accuracy Score: ',(accuracy_score(y_test, y_pred)))\n",
        "print('ROC Score',roc_auc_score(y_test, y_pred))"
      ]
    },
    {
      "cell_type": "code",
      "execution_count": 43,
      "id": "M2VQ4QHZ5K_7",
      "metadata": {
        "colab": {
          "base_uri": "https://localhost:8080/",
          "height": 735
        },
        "id": "M2VQ4QHZ5K_7",
        "outputId": "89d3a81d-9bff-4bf5-eaee-358e303fd8f9"
      },
      "outputs": [
        {
          "data": {
            "text/plain": [
              "<matplotlib.legend.Legend at 0x780ed8465ff0>"
            ]
          },
          "execution_count": 43,
          "metadata": {},
          "output_type": "execute_result"
        },
        {
          "data": {
            "image/png": "[encoded data removed]",
            "text/plain": [
              "<Figure size 1200x800 with 1 Axes>"
            ]
          },
          "metadata": {},
          "output_type": "display_data"
        }
      ],
      "source": [
        "# get the roc curve\n",
        "fpr_1, tpr_1, thresholds_1 = roc_curve(y_test, y_pred)\n",
        "# Plot ROC curve\n",
        "plt.figure(figsize = (12,8))\n",
        "roc_1 = roc_auc_score(y_test, y_pred)\n",
        "plt.plot(fpr_1, tpr_1, label='ROC curve (area = %0.3f)' % roc_1)\n",
        "plt.plot([0, 1], [0, 1], 'k--')  # random predictions curve\n",
        "plt.xlim([0.0, 1.0])\n",
        "plt.ylim([0.0, 1.0])\n",
        "plt.xlabel('False Positive Rate or (1 - Specifity)')\n",
        "plt.ylabel('True Positive Rate or (Sensitivity)')\n",
        "plt.title('Receiver Operating Characteristic')\n",
        "plt.legend(loc=\"lower right\")"
      ]
    },
    {
      "cell_type": "markdown",
      "id": "6WlwAZ-96zFa",
      "metadata": {
        "id": "6WlwAZ-96zFa"
      },
      "source": [
        "Outlier Detection Method: Isolation forest\n",
        "\n",
        "Algorithm : Gradient Boosting\n",
        "\n",
        "Imbalanced Data Handling: Manual addition\n",
        "\n",
        "Train test split: 75:25"
      ]
    },
    {
      "cell_type": "code",
      "execution_count": 44,
      "id": "V1Jlycvz7m6r",
      "metadata": {
        "id": "V1Jlycvz7m6r"
      },
      "outputs": [],
      "source": [
        "X_train1, X_test1, y_train1, y_test1 = train_test_split(X_resampled, y_resampled, test_size=0.25, random_state=42)"
      ]
    },
    {
      "cell_type": "code",
      "execution_count": 45,
      "id": "k_yjk6Ut7tPD",
      "metadata": {
        "id": "k_yjk6Ut7tPD"
      },
      "outputs": [],
      "source": [
        "from sklearn.preprocessing import RobustScaler\n",
        "# scale the data\n",
        "scaler = RobustScaler()\n",
        "# fit the scaler\n",
        "scaler.fit(X_train1)\n",
        "# transform the data\n",
        "X_train1 = scaler.transform(X_train1)\n",
        "X_test1 = scaler.transform(X_test1)"
      ]
    },
    {
      "cell_type": "code",
      "execution_count": 46,
      "id": "dCE4Asdg7wFY",
      "metadata": {
        "colab": {
          "base_uri": "https://localhost:8080/",
          "height": 74
        },
        "id": "dCE4Asdg7wFY",
        "outputId": "0ca1d98d-81b9-45ef-9704-6f50bc8305a6"
      },
      "outputs": [
        {
          "data": {
            "text/html": [
              "<style>#sk-container-id-1 {color: black;background-color: white;}#sk-container-id-1 pre{padding: 0;}#sk-container-id-1 div.sk-toggleable {background-color: white;}#sk-container-id-1 label.sk-toggleable__label {cursor: pointer;display: block;width: 100%;margin-bottom: 0;padding: 0.3em;box-sizing: border-box;text-align: center;}#sk-container-id-1 label.sk-toggleable__label-arrow:before {content: \"▸\";float: left;margin-right: 0.25em;color: #696969;}#sk-container-id-1 label.sk-toggleable__label-arrow:hover:before {color: black;}#sk-container-id-1 div.sk-estimator:hover label.sk-toggleable__label-arrow:before {color: black;}#sk-container-id-1 div.sk-toggleable__content {max-height: 0;max-width: 0;overflow: hidden;text-align: left;background-color: #f0f8ff;}#sk-container-id-1 div.sk-toggleable__content pre {margin: 0.2em;color: black;border-radius: 0.25em;background-color: #f0f8ff;}#sk-container-id-1 input.sk-toggleable__control:checked~div.sk-toggleable__content {max-height: 200px;max-width: 100%;overflow: auto;}#sk-container-id-1 input.sk-toggleable__control:checked~label.sk-toggleable__label-arrow:before {content: \"▾\";}#sk-container-id-1 div.sk-estimator input.sk-toggleable__control:checked~label.sk-toggleable__label {background-color: #d4ebff;}#sk-container-id-1 div.sk-label input.sk-toggleable__control:checked~label.sk-toggleable__label {background-color: #d4ebff;}#sk-container-id-1 input.sk-hidden--visually {border: 0;clip: rect(1px 1px 1px 1px);clip: rect(1px, 1px, 1px, 1px);height: 1px;margin: -1px;overflow: hidden;padding: 0;position: absolute;width: 1px;}#sk-container-id-1 div.sk-estimator {font-family: monospace;background-color: #f0f8ff;border: 1px dotted black;border-radius: 0.25em;box-sizing: border-box;margin-bottom: 0.5em;}#sk-container-id-1 div.sk-estimator:hover {background-color: #d4ebff;}#sk-container-id-1 div.sk-parallel-item::after {content: \"\";width: 100%;border-bottom: 1px solid gray;flex-grow: 1;}#sk-container-id-1 div.sk-label:hover label.sk-toggleable__label {background-color: #d4ebff;}#sk-container-id-1 div.sk-serial::before {content: \"\";position: absolute;border-left: 1px solid gray;box-sizing: border-box;top: 0;bottom: 0;left: 50%;z-index: 0;}#sk-container-id-1 div.sk-serial {display: flex;flex-direction: column;align-items: center;background-color: white;padding-right: 0.2em;padding-left: 0.2em;position: relative;}#sk-container-id-1 div.sk-item {position: relative;z-index: 1;}#sk-container-id-1 div.sk-parallel {display: flex;align-items: stretch;justify-content: center;background-color: white;position: relative;}#sk-container-id-1 div.sk-item::before, #sk-container-id-1 div.sk-parallel-item::before {content: \"\";position: absolute;border-left: 1px solid gray;box-sizing: border-box;top: 0;bottom: 0;left: 50%;z-index: -1;}#sk-container-id-1 div.sk-parallel-item {display: flex;flex-direction: column;z-index: 1;position: relative;background-color: white;}#sk-container-id-1 div.sk-parallel-item:first-child::after {align-self: flex-end;width: 50%;}#sk-container-id-1 div.sk-parallel-item:last-child::after {align-self: flex-start;width: 50%;}#sk-container-id-1 div.sk-parallel-item:only-child::after {width: 0;}#sk-container-id-1 div.sk-dashed-wrapped {border: 1px dashed gray;margin: 0 0.4em 0.5em 0.4em;box-sizing: border-box;padding-bottom: 0.4em;background-color: white;}#sk-container-id-1 div.sk-label label {font-family: monospace;font-weight: bold;display: inline-block;line-height: 1.2em;}#sk-container-id-1 div.sk-label-container {text-align: center;}#sk-container-id-1 div.sk-container {/* jupyter's `normalize.less` sets `[hidden] { display: none; }` but bootstrap.min.css set `[hidden] { display: none !important; }` so we also need the `!important` here to be able to override the default hidden behavior on the sphinx rendered scikit-learn.org. See: https://github.com/scikit-learn/scikit-learn/issues/21755 */display: inline-block !important;position: relative;}#sk-container-id-1 div.sk-text-repr-fallback {display: none;}</style><div id=\"sk-container-id-1\" class=\"sk-top-container\"><div class=\"sk-text-repr-fallback\"><pre>GradientBoostingClassifier()</pre><b>In a Jupyter environment, please rerun this cell to show the HTML representation or trust the notebook. <br />On GitHub, the HTML representation is unable to render, please try loading this page with nbviewer.org.</b></div><div class=\"sk-container\" hidden><div class=\"sk-item\"><div class=\"sk-estimator sk-toggleable\"><input class=\"sk-toggleable__control sk-hidden--visually\" id=\"sk-estimator-id-1\" type=\"checkbox\" checked><label for=\"sk-estimator-id-1\" class=\"sk-toggleable__label sk-toggleable__label-arrow\">GradientBoostingClassifier</label><div class=\"sk-toggleable__content\"><pre>GradientBoostingClassifier()</pre></div></div></div></div></div>"
            ],
            "text/plain": [
              "GradientBoostingClassifier()"
            ]
          },
          "execution_count": 46,
          "metadata": {},
          "output_type": "execute_result"
        }
      ],
      "source": [
        "# gradient boosting model\n",
        "gb1 = GradientBoostingClassifier(n_estimators=100)\n",
        "gb1.fit(X_train1, y_train1)"
      ]
    },
    {
      "cell_type": "code",
      "execution_count": 47,
      "id": "_edBcp107ycG",
      "metadata": {
        "colab": {
          "base_uri": "https://localhost:8080/"
        },
        "id": "_edBcp107ycG",
        "outputId": "3133e3f6-01e5-440a-90ce-e68517bdbb46"
      },
      "outputs": [
        {
          "name": "stdout",
          "output_type": "stream",
          "text": [
            "0.8506348576530106\n"
          ]
        }
      ],
      "source": [
        "y_pred1 = gb1.predict(X_test1)\n",
        "print(gb1.score(X_test1, y_test1))"
      ]
    },
    {
      "cell_type": "code",
      "execution_count": 48,
      "id": "ZBV-8Ztm86NB",
      "metadata": {
        "colab": {
          "base_uri": "https://localhost:8080/"
        },
        "id": "ZBV-8Ztm86NB",
        "outputId": "77f770ef-27de-40e7-b171-95ee7eb3bc8d"
      },
      "outputs": [
        {
          "name": "stdout",
          "output_type": "stream",
          "text": [
            "              precision    recall  f1-score   support\n",
            "\n",
            "           0       0.83      0.89      0.86    100904\n",
            "           1       0.88      0.82      0.84    100716\n",
            "\n",
            "    accuracy                           0.85    201620\n",
            "   macro avg       0.85      0.85      0.85    201620\n",
            "weighted avg       0.85      0.85      0.85    201620\n",
            "\n"
          ]
        }
      ],
      "source": [
        "# get the classification report\n",
        "print(classification_report(y_test1, y_pred1))"
      ]
    },
    {
      "cell_type": "code",
      "execution_count": 51,
      "id": "xaE70GWq89pe",
      "metadata": {
        "colab": {
          "base_uri": "https://localhost:8080/"
        },
        "id": "xaE70GWq89pe",
        "outputId": "34c37cfd-1af3-470a-bd29-4332231e6c3a"
      },
      "outputs": [
        {
          "name": "stdout",
          "output_type": "stream",
          "text": [
            "Recall Score: 0.8150144962071567\n",
            "Precision Score:  0.8772670435721233\n",
            "F1 Score:  0.8449957536608591\n",
            "Accuracy Score:  0.8706348576530106\n",
            "ROC Score 0.8506016744890537\n"
          ]
        }
      ],
      "source": [
        "print('Recall Score:',(recall_score(y_test1, y_pred1)))\n",
        "print('Precision Score: ',(precision_score(y_test1, y_pred1)))\n",
        "print('F1 Score: ',(f1_score(y_test1, y_pred1)))\n",
        "print('Accuracy Score: ',(accuracy_score(y_test1, y_pred1)))\n",
        "print('ROC Score',roc_auc_score(y_test1, y_pred1))"
      ]
    },
    {
      "cell_type": "code",
      "execution_count": 52,
      "id": "f7vqgUBO9JJu",
      "metadata": {
        "colab": {
          "base_uri": "https://localhost:8080/",
          "height": 735
        },
        "id": "f7vqgUBO9JJu",
        "outputId": "dae1d3b0-29ee-475d-97d5-226a924804c2"
      },
      "outputs": [
        {
          "data": {
            "text/plain": [
              "<matplotlib.legend.Legend at 0x780ed8379330>"
            ]
          },
          "execution_count": 52,
          "metadata": {},
          "output_type": "execute_result"
        },
        {
          "data": {
            "image/png": "[encoded data removed]",
            "text/plain": [
              "<Figure size 1200x800 with 1 Axes>"
            ]
          },
          "metadata": {},
          "output_type": "display_data"
        }
      ],
      "source": [
        "# get the roc curve\n",
        "fpr_2, tpr_2, thresholds_2 = roc_curve(y_test1, y_pred1)\n",
        "# Plot ROC curve\n",
        "plt.figure(figsize = (12,8))\n",
        "roc_2 = roc_auc_score(y_test1, y_pred1)\n",
        "plt.plot(fpr_2, tpr_2, label='ROC curve (area = %0.3f)' % roc_2)\n",
        "plt.plot([0, 1], [0, 1], 'k--')  # random predictions curve\n",
        "plt.xlim([0.0, 1.0])\n",
        "plt.ylim([0.0, 1.0])\n",
        "plt.xlabel('False Positive Rate or (1 - Specifity)')\n",
        "plt.ylabel('True Positive Rate or (Sensitivity)')\n",
        "plt.title('Receiver Operating Characteristic')\n",
        "plt.legend(loc=\"lower right\")"
      ]
    },
    {
      "cell_type": "markdown",
      "id": "RL8xNctc-MDo",
      "metadata": {
        "id": "RL8xNctc-MDo"
      },
      "source": [
        "Outlier Detection Method: Isolation forest\n",
        "\n",
        "Algorithm : Gradient Boosting\n",
        "\n",
        "Imbalanced Data Handling: SMOTE\n",
        "\n",
        "Train test split: 75:25"
      ]
    },
    {
      "cell_type": "code",
      "execution_count": 60,
      "id": "Xs7k4i9x-Fg7",
      "metadata": {
        "id": "Xs7k4i9x-Fg7"
      },
      "outputs": [],
      "source": [
        "df3=df.copy()"
      ]
    },
    {
      "cell_type": "code",
      "execution_count": 54,
      "id": "4S7fn9Jo_uLK",
      "metadata": {
        "colab": {
          "base_uri": "https://localhost:8080/",
          "height": 423
        },
        "id": "4S7fn9Jo_uLK",
        "outputId": "00fdcb51-6601-46c6-dec2-31510c12f3b9"
      },
      "outputs": [
        {
          "data": {
            "text/html": [
              "\n",
              "  <div id=\"df-0269ed47-a1c1-40aa-ac4e-c587ca6da84f\" class=\"colab-df-container\">\n",
              "    <div>\n",
              "<style scoped>\n",
              "    .dataframe tbody tr th:only-of-type {\n",
              "        vertical-align: middle;\n",
              "    }\n",
              "\n",
              "    .dataframe tbody tr th {\n",
              "        vertical-align: top;\n",
              "    }\n",
              "\n",
              "    .dataframe thead th {\n",
              "        text-align: right;\n",
              "    }\n",
              "</style>\n",
              "<table border=\"1\" class=\"dataframe\">\n",
              "  <thead>\n",
              "    <tr style=\"text-align: right;\">\n",
              "      <th></th>\n",
              "      <th>length</th>\n",
              "      <th>weight</th>\n",
              "      <th>count</th>\n",
              "      <th>looped</th>\n",
              "      <th>neighbors</th>\n",
              "      <th>income</th>\n",
              "      <th>label_encoded</th>\n",
              "    </tr>\n",
              "  </thead>\n",
              "  <tbody>\n",
              "    <tr>\n",
              "      <th>0</th>\n",
              "      <td>2.079442</td>\n",
              "      <td>-4.969813</td>\n",
              "      <td>0.000000</td>\n",
              "      <td>0.000000</td>\n",
              "      <td>0.693147</td>\n",
              "      <td>18.197537</td>\n",
              "      <td>0</td>\n",
              "    </tr>\n",
              "    <tr>\n",
              "      <th>1</th>\n",
              "      <td>4.969813</td>\n",
              "      <td>0.474460</td>\n",
              "      <td>8.631414</td>\n",
              "      <td>8.096513</td>\n",
              "      <td>0.693147</td>\n",
              "      <td>18.941377</td>\n",
              "      <td>0</td>\n",
              "    </tr>\n",
              "    <tr>\n",
              "      <th>2</th>\n",
              "      <td>2.484907</td>\n",
              "      <td>-9.939627</td>\n",
              "      <td>0.000000</td>\n",
              "      <td>0.000000</td>\n",
              "      <td>0.693147</td>\n",
              "      <td>18.197537</td>\n",
              "      <td>0</td>\n",
              "    </tr>\n",
              "    <tr>\n",
              "      <th>3</th>\n",
              "      <td>4.969813</td>\n",
              "      <td>1.299378</td>\n",
              "      <td>7.719130</td>\n",
              "      <td>0.693147</td>\n",
              "      <td>1.791759</td>\n",
              "      <td>19.304364</td>\n",
              "      <td>0</td>\n",
              "    </tr>\n",
              "    <tr>\n",
              "      <th>4</th>\n",
              "      <td>4.969813</td>\n",
              "      <td>-0.631770</td>\n",
              "      <td>7.579679</td>\n",
              "      <td>7.080868</td>\n",
              "      <td>0.000000</td>\n",
              "      <td>18.323068</td>\n",
              "      <td>0</td>\n",
              "    </tr>\n",
              "    <tr>\n",
              "      <th>...</th>\n",
              "      <td>...</td>\n",
              "      <td>...</td>\n",
              "      <td>...</td>\n",
              "      <td>...</td>\n",
              "      <td>...</td>\n",
              "      <td>...</td>\n",
              "      <td>...</td>\n",
              "    </tr>\n",
              "    <tr>\n",
              "      <th>411815</th>\n",
              "      <td>4.969813</td>\n",
              "      <td>-0.281698</td>\n",
              "      <td>9.017605</td>\n",
              "      <td>9.017605</td>\n",
              "      <td>1.609438</td>\n",
              "      <td>21.682758</td>\n",
              "      <td>1</td>\n",
              "    </tr>\n",
              "    <tr>\n",
              "      <th>411816</th>\n",
              "      <td>4.969813</td>\n",
              "      <td>-1.834454</td>\n",
              "      <td>8.645586</td>\n",
              "      <td>1.386294</td>\n",
              "      <td>1.386294</td>\n",
              "      <td>19.988793</td>\n",
              "      <td>1</td>\n",
              "    </tr>\n",
              "    <tr>\n",
              "      <th>411817</th>\n",
              "      <td>4.969813</td>\n",
              "      <td>-0.332051</td>\n",
              "      <td>9.017605</td>\n",
              "      <td>9.017605</td>\n",
              "      <td>1.098612</td>\n",
              "      <td>21.073504</td>\n",
              "      <td>1</td>\n",
              "    </tr>\n",
              "    <tr>\n",
              "      <th>411818</th>\n",
              "      <td>4.969813</td>\n",
              "      <td>-1.525782</td>\n",
              "      <td>9.017605</td>\n",
              "      <td>9.017605</td>\n",
              "      <td>0.693147</td>\n",
              "      <td>19.113578</td>\n",
              "      <td>1</td>\n",
              "    </tr>\n",
              "    <tr>\n",
              "      <th>411819</th>\n",
              "      <td>0.693147</td>\n",
              "      <td>2.484907</td>\n",
              "      <td>1.791759</td>\n",
              "      <td>1.791759</td>\n",
              "      <td>3.555348</td>\n",
              "      <td>21.598012</td>\n",
              "      <td>1</td>\n",
              "    </tr>\n",
              "  </tbody>\n",
              "</table>\n",
              "<p>411820 rows × 7 columns</p>\n",
              "</div>\n",
              "    <div class=\"colab-df-buttons\">\n",
              "\n",
              "  <div class=\"colab-df-container\">\n",
              "    <button class=\"colab-df-convert\" onclick=\"convertToInteractive('df-0269ed47-a1c1-40aa-ac4e-c587ca6da84f')\"\n",
              "            title=\"Convert this dataframe to an interactive table.\"\n",
              "            style=\"display:none;\">\n",
              "\n",
              "  <svg xmlns=\"http://www.w3.org/2000/svg\" height=\"24px\" viewBox=\"0 -960 960 960\">\n",
              "    <path d=\"M120-120v-720h720v720H120Zm60-500h600v-160H180v160Zm220 220h160v-160H400v160Zm0 220h160v-160H400v160ZM180-400h160v-160H180v160Zm440 0h160v-160H620v160ZM180-180h160v-160H180v160Zm440 0h160v-160H620v160Z\"/>\n",
              "  </svg>\n",
              "    </button>\n",
              "\n",
              "  <style>\n",
              "    .colab-df-container {\n",
              "      display:flex;\n",
              "      gap: 12px;\n",
              "    }\n",
              "\n",
              "    .colab-df-convert {\n",
              "      background-color: #E8F0FE;\n",
              "      border: none;\n",
              "      border-radius: 50%;\n",
              "      cursor: pointer;\n",
              "      display: none;\n",
              "      fill: #1967D2;\n",
              "      height: 32px;\n",
              "      padding: 0 0 0 0;\n",
              "      width: 32px;\n",
              "    }\n",
              "\n",
              "    .colab-df-convert:hover {\n",
              "      background-color: #E2EBFA;\n",
              "      box-shadow: 0px 1px 2px rgba(60, 64, 67, 0.3), 0px 1px 3px 1px rgba(60, 64, 67, 0.15);\n",
              "      fill: #174EA6;\n",
              "    }\n",
              "\n",
              "    .colab-df-buttons div {\n",
              "      margin-bottom: 4px;\n",
              "    }\n",
              "\n",
              "    [theme=dark] .colab-df-convert {\n",
              "      background-color: #3B4455;\n",
              "      fill: #D2E3FC;\n",
              "    }\n",
              "\n",
              "    [theme=dark] .colab-df-convert:hover {\n",
              "      background-color: #434B5C;\n",
              "      box-shadow: 0px 1px 3px 1px rgba(0, 0, 0, 0.15);\n",
              "      filter: drop-shadow(0px 1px 2px rgba(0, 0, 0, 0.3));\n",
              "      fill: #FFFFFF;\n",
              "    }\n",
              "  </style>\n",
              "\n",
              "    <script>\n",
              "      const buttonEl =\n",
              "        document.querySelector('#df-0269ed47-a1c1-40aa-ac4e-c587ca6da84f button.colab-df-convert');\n",
              "      buttonEl.style.display =\n",
              "        google.colab.kernel.accessAllowed ? 'block' : 'none';\n",
              "\n",
              "      async function convertToInteractive(key) {\n",
              "        const element = document.querySelector('#df-0269ed47-a1c1-40aa-ac4e-c587ca6da84f');\n",
              "        const dataTable =\n",
              "          await google.colab.kernel.invokeFunction('convertToInteractive',\n",
              "                                                    [key], {});\n",
              "        if (!dataTable) return;\n",
              "\n",
              "        const docLinkHtml = 'Like what you see? Visit the ' +\n",
              "          '<a target=\"_blank\" href=https://colab.research.google.com/notebooks/data_table.ipynb>data table notebook</a>'\n",
              "          + ' to learn more about interactive tables.';\n",
              "        element.innerHTML = '';\n",
              "        dataTable['output_type'] = 'display_data';\n",
              "        await google.colab.output.renderOutput(dataTable, element);\n",
              "        const docLink = document.createElement('div');\n",
              "        docLink.innerHTML = docLinkHtml;\n",
              "        element.appendChild(docLink);\n",
              "      }\n",
              "    </script>\n",
              "  </div>\n",
              "\n",
              "\n",
              "<div id=\"df-e5df5ab1-dec6-4dcc-91a3-83a8ffe21327\">\n",
              "  <button class=\"colab-df-quickchart\" onclick=\"quickchart('df-e5df5ab1-dec6-4dcc-91a3-83a8ffe21327')\"\n",
              "            title=\"Suggest charts.\"\n",
              "            style=\"display:none;\">\n",
              "\n",
              "<svg xmlns=\"http://www.w3.org/2000/svg\" height=\"24px\"viewBox=\"0 0 24 24\"\n",
              "     width=\"24px\">\n",
              "    <g>\n",
              "        <path d=\"M19 3H5c-1.1 0-2 .9-2 2v14c0 1.1.9 2 2 2h14c1.1 0 2-.9 2-2V5c0-1.1-.9-2-2-2zM9 17H7v-7h2v7zm4 0h-2V7h2v10zm4 0h-2v-4h2v4z\"/>\n",
              "    </g>\n",
              "</svg>\n",
              "  </button>\n",
              "\n",
              "<style>\n",
              "  .colab-df-quickchart {\n",
              "      --bg-color: #E8F0FE;\n",
              "      --fill-color: #1967D2;\n",
              "      --hover-bg-color: #E2EBFA;\n",
              "      --hover-fill-color: #174EA6;\n",
              "      --disabled-fill-color: #AAA;\n",
              "      --disabled-bg-color: #DDD;\n",
              "  }\n",
              "\n",
              "  [theme=dark] .colab-df-quickchart {\n",
              "      --bg-color: #3B4455;\n",
              "      --fill-color: #D2E3FC;\n",
              "      --hover-bg-color: #434B5C;\n",
              "      --hover-fill-color: #FFFFFF;\n",
              "      --disabled-bg-color: #3B4455;\n",
              "      --disabled-fill-color: #666;\n",
              "  }\n",
              "\n",
              "  .colab-df-quickchart {\n",
              "    background-color: var(--bg-color);\n",
              "    border: none;\n",
              "    border-radius: 50%;\n",
              "    cursor: pointer;\n",
              "    display: none;\n",
              "    fill: var(--fill-color);\n",
              "    height: 32px;\n",
              "    padding: 0;\n",
              "    width: 32px;\n",
              "  }\n",
              "\n",
              "  .colab-df-quickchart:hover {\n",
              "    background-color: var(--hover-bg-color);\n",
              "    box-shadow: 0 1px 2px rgba(60, 64, 67, 0.3), 0 1px 3px 1px rgba(60, 64, 67, 0.15);\n",
              "    fill: var(--button-hover-fill-color);\n",
              "  }\n",
              "\n",
              "  .colab-df-quickchart-complete:disabled,\n",
              "  .colab-df-quickchart-complete:disabled:hover {\n",
              "    background-color: var(--disabled-bg-color);\n",
              "    fill: var(--disabled-fill-color);\n",
              "    box-shadow: none;\n",
              "  }\n",
              "\n",
              "  .colab-df-spinner {\n",
              "    border: 2px solid var(--fill-color);\n",
              "    border-color: transparent;\n",
              "    border-bottom-color: var(--fill-color);\n",
              "    animation:\n",
              "      spin 1s steps(1) infinite;\n",
              "  }\n",
              "\n",
              "  @keyframes spin {\n",
              "    0% {\n",
              "      border-color: transparent;\n",
              "      border-bottom-color: var(--fill-color);\n",
              "      border-left-color: var(--fill-color);\n",
              "    }\n",
              "    20% {\n",
              "      border-color: transparent;\n",
              "      border-left-color: var(--fill-color);\n",
              "      border-top-color: var(--fill-color);\n",
              "    }\n",
              "    30% {\n",
              "      border-color: transparent;\n",
              "      border-left-color: var(--fill-color);\n",
              "      border-top-color: var(--fill-color);\n",
              "      border-right-color: var(--fill-color);\n",
              "    }\n",
              "    40% {\n",
              "      border-color: transparent;\n",
              "      border-right-color: var(--fill-color);\n",
              "      border-top-color: var(--fill-color);\n",
              "    }\n",
              "    60% {\n",
              "      border-color: transparent;\n",
              "      border-right-color: var(--fill-color);\n",
              "    }\n",
              "    80% {\n",
              "      border-color: transparent;\n",
              "      border-right-color: var(--fill-color);\n",
              "      border-bottom-color: var(--fill-color);\n",
              "    }\n",
              "    90% {\n",
              "      border-color: transparent;\n",
              "      border-bottom-color: var(--fill-color);\n",
              "    }\n",
              "  }\n",
              "</style>\n",
              "\n",
              "  <script>\n",
              "    async function quickchart(key) {\n",
              "      const quickchartButtonEl =\n",
              "        document.querySelector('#' + key + ' button');\n",
              "      quickchartButtonEl.disabled = true;  // To prevent multiple clicks.\n",
              "      quickchartButtonEl.classList.add('colab-df-spinner');\n",
              "      try {\n",
              "        const charts = await google.colab.kernel.invokeFunction(\n",
              "            'suggestCharts', [key], {});\n",
              "      } catch (error) {\n",
              "        console.error('Error during call to suggestCharts:', error);\n",
              "      }\n",
              "      quickchartButtonEl.classList.remove('colab-df-spinner');\n",
              "      quickchartButtonEl.classList.add('colab-df-quickchart-complete');\n",
              "    }\n",
              "    (() => {\n",
              "      let quickchartButtonEl =\n",
              "        document.querySelector('#df-e5df5ab1-dec6-4dcc-91a3-83a8ffe21327 button');\n",
              "      quickchartButtonEl.style.display =\n",
              "        google.colab.kernel.accessAllowed ? 'block' : 'none';\n",
              "    })();\n",
              "  </script>\n",
              "</div>\n",
              "    </div>\n",
              "  </div>\n"
            ],
            "text/plain": [
              "          length    weight     count    looped  neighbors     income  \\\n",
              "0       2.079442 -4.969813  0.000000  0.000000   0.693147  18.197537   \n",
              "1       4.969813  0.474460  8.631414  8.096513   0.693147  18.941377   \n",
              "2       2.484907 -9.939627  0.000000  0.000000   0.693147  18.197537   \n",
              "3       4.969813  1.299378  7.719130  0.693147   1.791759  19.304364   \n",
              "4       4.969813 -0.631770  7.579679  7.080868   0.000000  18.323068   \n",
              "...          ...       ...       ...       ...        ...        ...   \n",
              "411815  4.969813 -0.281698  9.017605  9.017605   1.609438  21.682758   \n",
              "411816  4.969813 -1.834454  8.645586  1.386294   1.386294  19.988793   \n",
              "411817  4.969813 -0.332051  9.017605  9.017605   1.098612  21.073504   \n",
              "411818  4.969813 -1.525782  9.017605  9.017605   0.693147  19.113578   \n",
              "411819  0.693147  2.484907  1.791759  1.791759   3.555348  21.598012   \n",
              "\n",
              "        label_encoded  \n",
              "0                   0  \n",
              "1                   0  \n",
              "2                   0  \n",
              "3                   0  \n",
              "4                   0  \n",
              "...               ...  \n",
              "411815              1  \n",
              "411816              1  \n",
              "411817              1  \n",
              "411818              1  \n",
              "411819              1  \n",
              "\n",
              "[411820 rows x 7 columns]"
            ]
          },
          "execution_count": 54,
          "metadata": {},
          "output_type": "execute_result"
        }
      ],
      "source": [
        "df3"
      ]
    },
    {
      "cell_type": "code",
      "execution_count": 55,
      "id": "sje1xf6d_kEJ",
      "metadata": {
        "colab": {
          "base_uri": "https://localhost:8080/"
        },
        "id": "sje1xf6d_kEJ",
        "outputId": "0d679183-6c13-41bc-beec-7d1a137a73c7"
      },
      "outputs": [
        {
          "name": "stdout",
          "output_type": "stream",
          "text": [
            "0.15183818172988198\n",
            "0.046928269632363656\n",
            "0.0\n",
            "0.0\n",
            "0.20381477344470886\n",
            "0.014040114613180516\n"
          ]
        }
      ],
      "source": [
        "sum=0\n",
        "for col in check_cols:\n",
        "\n",
        "  data = np.array(df3[col])\n",
        "  # calculate the IQR\n",
        "  q1, q3 = np.percentile(data, [25, 75])\n",
        "  iqr = q3 - q1\n",
        "\n",
        "  # identify the outliers\n",
        "  threshold = 1.5\n",
        "  lower_bound = q1 - (threshold * iqr)\n",
        "  upper_bound = q3 + (threshold * iqr)\n",
        "  outliers = np.where((data < lower_bound) | (data > upper_bound))[0]\n",
        "  #print(len(outliers))\n",
        "  total_data_points=data.shape[0]\n",
        "  contamination_length = len(outliers) / total_data_points\n",
        "  print(contamination_length)\n",
        "  sum+=contamination_length"
      ]
    },
    {
      "cell_type": "code",
      "execution_count": 58,
      "id": "N5fKxyVgElZP",
      "metadata": {
        "colab": {
          "base_uri": "https://localhost:8080/"
        },
        "id": "N5fKxyVgElZP",
        "outputId": "e7f3f261-0a07-4e3b-d232-38cf85af4921"
      },
      "outputs": [
        {
          "name": "stdout",
          "output_type": "stream",
          "text": [
            "0.06943688990335582\n"
          ]
        }
      ],
      "source": [
        "avg=sum/len(check_cols)\n",
        "print(avg)"
      ]
    },
    {
      "cell_type": "code",
      "execution_count": 61,
      "id": "BLb08viV__TU",
      "metadata": {
        "id": "BLb08viV__TU"
      },
      "outputs": [],
      "source": [
        "# remove or replace the outliers\n",
        "df3 = df3.reset_index(drop=True) # reset index\n",
        "df3 = df3.drop(outliers, axis=0)"
      ]
    },
    {
      "cell_type": "code",
      "execution_count": 62,
      "id": "UzKCMgBJAI9N",
      "metadata": {
        "colab": {
          "base_uri": "https://localhost:8080/"
        },
        "id": "UzKCMgBJAI9N",
        "outputId": "a1d517a0-4fb8-4983-ba97-3fb70708407a"
      },
      "outputs": [
        {
          "data": {
            "text/plain": [
              "(406038, 7)"
            ]
          },
          "execution_count": 62,
          "metadata": {},
          "output_type": "execute_result"
        }
      ],
      "source": [
        "df3.shape"
      ]
    },
    {
      "cell_type": "code",
      "execution_count": 63,
      "id": "Kr7meYpaAS56",
      "metadata": {
        "id": "Kr7meYpaAS56"
      },
      "outputs": [],
      "source": [
        "smote = SMOTE(random_state=42)\n",
        "X_resampled, y_resampled = smote.fit_resample(df3[check_cols], df3['label_encoded'])"
      ]
    },
    {
      "cell_type": "code",
      "execution_count": 65,
      "id": "qz0qt1dfA6Ns",
      "metadata": {
        "colab": {
          "base_uri": "https://localhost:8080/"
        },
        "id": "qz0qt1dfA6Ns",
        "outputId": "db0bea87-03fe-427b-fc1f-0bb71ceb588d"
      },
      "outputs": [
        {
          "name": "stdout",
          "output_type": "stream",
          "text": [
            "(602419, 6) (200807, 6)\n"
          ]
        }
      ],
      "source": [
        "X_train3, X_test3, y_train3, y_test3 = train_test_split(X_resampled, y_resampled, test_size=0.25, random_state=42)\n",
        "print(X_train3.shape,X_test3.shape)"
      ]
    },
    {
      "cell_type": "code",
      "execution_count": 66,
      "id": "znJ72PZ_A6Nt",
      "metadata": {
        "id": "znJ72PZ_A6Nt"
      },
      "outputs": [],
      "source": [
        "scaler = RobustScaler()\n",
        "# fit the scaler\n",
        "scaler.fit(X_train3)\n",
        "# transform the data\n",
        "X_train3 = scaler.transform(X_train3)\n",
        "X_test3 = scaler.transform(X_test3)"
      ]
    },
    {
      "cell_type": "code",
      "execution_count": 67,
      "id": "PXt3ZzY5A6Nt",
      "metadata": {
        "colab": {
          "base_uri": "https://localhost:8080/"
        },
        "id": "PXt3ZzY5A6Nt",
        "outputId": "adf2866f-f03f-4577-a45a-dbce241a3921"
      },
      "outputs": [
        {
          "name": "stdout",
          "output_type": "stream",
          "text": [
            "0.8469724660992893\n"
          ]
        }
      ],
      "source": [
        "# create a gradient boosting model with 100 trees\n",
        "gb = GradientBoostingClassifier(n_estimators=100)\n",
        "# fit the model\n",
        "gb.fit(X_train3, y_train3)\n",
        "# predict the labels\n",
        "y_pred3 = gb.predict(X_test3)\n",
        "# get the accuracy score\n",
        "print(gb.score(X_test3, y_test3))"
      ]
    },
    {
      "cell_type": "code",
      "execution_count": 68,
      "id": "8oVTRvcHA6Nt",
      "metadata": {
        "colab": {
          "base_uri": "https://localhost:8080/"
        },
        "id": "8oVTRvcHA6Nt",
        "outputId": "cae41ac6-1f58-4611-d913-3592bad054c4"
      },
      "outputs": [
        {
          "name": "stdout",
          "output_type": "stream",
          "text": [
            "[[88854 11553]\n",
            " [19176 81224]]\n"
          ]
        }
      ],
      "source": [
        "# get the confusion matrix\n",
        "cm = confusion_matrix(y_test3, y_pred3)\n",
        "print(cm)"
      ]
    },
    {
      "cell_type": "code",
      "execution_count": 69,
      "id": "GlTA5otuA6Nu",
      "metadata": {
        "colab": {
          "base_uri": "https://localhost:8080/"
        },
        "id": "GlTA5otuA6Nu",
        "outputId": "40f85da3-5a9d-4ab4-d6cd-067ddd21b2f7"
      },
      "outputs": [
        {
          "name": "stdout",
          "output_type": "stream",
          "text": [
            "              precision    recall  f1-score   support\n",
            "\n",
            "           0       0.82      0.88      0.85    100407\n",
            "           1       0.88      0.81      0.84    100400\n",
            "\n",
            "    accuracy                           0.85    200807\n",
            "   macro avg       0.85      0.85      0.85    200807\n",
            "weighted avg       0.85      0.85      0.85    200807\n",
            "\n"
          ]
        }
      ],
      "source": [
        "# get the classification report\n",
        "print(classification_report(y_test3, y_pred3))"
      ]
    },
    {
      "cell_type": "code",
      "execution_count": 70,
      "id": "NG5ClkmaA6Nu",
      "metadata": {
        "colab": {
          "base_uri": "https://localhost:8080/"
        },
        "id": "NG5ClkmaA6Nu",
        "outputId": "96f6a5bd-52f0-4089-d669-8ab4e6292623"
      },
      "outputs": [
        {
          "name": "stdout",
          "output_type": "stream",
          "text": [
            "Recall Score:  0.8090039840637451\n",
            "Precision Score:  0.8754756027894844\n",
            "F1 Score:  0.8409282678579747\n",
            "Accuracy Score:  0.8789724660992894\n",
            "ROC Score 0.8469711425891047\n"
          ]
        }
      ],
      "source": [
        "print('Recall Score: ',(recall_score(y_test3, y_pred3)))\n",
        "print('Precision Score: ',(precision_score(y_test3, y_pred3)))\n",
        "print('F1 Score: ',(f1_score(y_test3, y_pred3)))\n",
        "print('Accuracy Score: ',(accuracy_score(y_test3, y_pred3)))\n",
        "print('ROC Score',roc_auc_score(y_test3, y_pred3))"
      ]
    },
    {
      "cell_type": "markdown",
      "id": "me0i4WDX_UfZ",
      "metadata": {
        "id": "me0i4WDX_UfZ"
      },
      "source": [
        "Outlier Detection Method: Isolation forest with IQR fine tuning\n",
        "\n",
        "Algorithm : Gradient Boosting\n",
        "\n",
        "Imbalanced Data Handling: SMOTE\n",
        "\n",
        "Train test split: 75:25"
      ]
    },
    {
      "cell_type": "code",
      "execution_count": 71,
      "id": "Fs8FvneUFHFn",
      "metadata": {
        "id": "Fs8FvneUFHFn"
      },
      "outputs": [],
      "source": [
        "clf2=IsolationForest(n_jobs=6,random_state=23,contamination=avg)\n",
        "clf2.fit(train_set)\n",
        "outlier=clf2.predict(train_set)"
      ]
    },
    {
      "cell_type": "code",
      "execution_count": 72,
      "id": "rDvek8CEFHFo",
      "metadata": {
        "colab": {
          "base_uri": "https://localhost:8080/"
        },
        "id": "rDvek8CEFHFo",
        "outputId": "58cc2d66-3b54-49b2-a323-deee196667d7"
      },
      "outputs": [
        {
          "data": {
            "text/plain": [
              " 1    383224\n",
              "-1     28596\n",
              "dtype: int64"
            ]
          },
          "execution_count": 72,
          "metadata": {},
          "output_type": "execute_result"
        }
      ],
      "source": [
        "pd.value_counts(outlier)"
      ]
    },
    {
      "cell_type": "code",
      "execution_count": 73,
      "id": "SQUdo13vFHFp",
      "metadata": {
        "id": "SQUdo13vFHFp"
      },
      "outputs": [],
      "source": [
        "X_cleaned2=train_set[outlier==1]\n",
        "y_cleaned2=df['label_encoded'][outlier==1]"
      ]
    },
    {
      "cell_type": "code",
      "execution_count": 74,
      "id": "qYqRUtJLFHFq",
      "metadata": {
        "id": "qYqRUtJLFHFq"
      },
      "outputs": [],
      "source": [
        "smote = SMOTE(random_state=42)\n",
        "X_resampled_new, y_resampled_new = smote.fit_resample(X_cleaned2, y_cleaned2)"
      ]
    },
    {
      "cell_type": "code",
      "execution_count": 76,
      "id": "cA39eZ2yFHFr",
      "metadata": {
        "colab": {
          "base_uri": "https://localhost:8080/"
        },
        "id": "cA39eZ2yFHFr",
        "outputId": "9081c257-aaea-4115-e85e-9d31555788c0"
      },
      "outputs": [
        {
          "name": "stdout",
          "output_type": "stream",
          "text": [
            "(568590, 6) (189530, 6)\n"
          ]
        }
      ],
      "source": [
        "X_train4, X_test4, y_train4, y_test4 = train_test_split(X_resampled_new, y_resampled_new, test_size=0.25, random_state=42)\n",
        "print(X_train4.shape,X_test4.shape)"
      ]
    },
    {
      "cell_type": "code",
      "execution_count": 77,
      "id": "A7ldmS93FHFs",
      "metadata": {
        "id": "A7ldmS93FHFs"
      },
      "outputs": [],
      "source": [
        "scaler = RobustScaler()\n",
        "scaler.fit(X_train4)\n",
        "X_train4 = scaler.transform(X_train4)\n",
        "X_test4 = scaler.transform(X_test4)"
      ]
    },
    {
      "cell_type": "code",
      "execution_count": null,
      "id": "0Yhu_2QmFHFs",
      "metadata": {
        "id": "0Yhu_2QmFHFs"
      },
      "outputs": [],
      "source": [
        "gb4 = GradientBoostingClassifier(n_estimators=100)\n",
        "gb4.fit(X_train4, y_train4)\n",
        "y_pred4 = gb4.predict(X_test4)\n",
        "# get the accuracy score\n",
        "print(gb4.score(X_test4, y_test4))"
      ]
    },
    {
      "cell_type": "code",
      "execution_count": null,
      "id": "YkydpCTSFHFt",
      "metadata": {
        "id": "YkydpCTSFHFt"
      },
      "outputs": [],
      "source": [
        "# get the confusion matrix\n",
        "cm = confusion_matrix(y_test4, y_pred4)\n",
        "print(cm)"
      ]
    },
    {
      "cell_type": "code",
      "execution_count": null,
      "id": "0nfrlIBHFHFt",
      "metadata": {
        "id": "0nfrlIBHFHFt"
      },
      "outputs": [],
      "source": [
        "# get the classification report\n",
        "print(classification_report(y_test4, y_pred4))"
      ]
    },
    {
      "cell_type": "code",
      "execution_count": 151,
      "id": "k7-0o9qfFHFu",
      "metadata": {
        "colab": {
          "base_uri": "https://localhost:8080/"
        },
        "id": "k7-0o9qfFHFu",
        "outputId": "8fc151f6-9cf3-48cf-8f0a-d9cdd5339528"
      },
      "outputs": [
        {
          "name": "stdout",
          "output_type": "stream",
          "text": [
            "Recall Score: 0.8170739414366969\n",
            "Precision Score: 0.8805307725487526\n",
            "F1 Score: 0.8476163419617784\n",
            "Accuracy Score: 0.8532061807923876\n"
          ]
        }
      ],
      "source": [
        "print('Recall Score:',(recall_score(y_test4, y_pred4)))\n",
        "print('Precision Score:',(precision_score(y_test4, y_pred4)))\n",
        "print('F1 Score:',(f1_score(y_test4, y_pred4)))\n",
        "print('Accuracy Score:',(accuracy_score(y_test4, y_pred4)))\n",
        "print('ROC score',roc_auc_score(y_test, y_pred))"
      ]
    },
    {
      "cell_type": "code",
      "execution_count": 153,
      "id": "idTsIp9uKpdE",
      "metadata": {
        "colab": {
          "base_uri": "https://localhost:8080/",
          "height": 74
        },
        "id": "idTsIp9uKpdE",
        "outputId": "6b7f1579-33c4-4e31-977d-e48957cd1e79"
      },
      "outputs": [
        {
          "data": {
            "text/html": [
              "<style>#sk-container-id-3 {color: black;background-color: white;}#sk-container-id-3 pre{padding: 0;}#sk-container-id-3 div.sk-toggleable {background-color: white;}#sk-container-id-3 label.sk-toggleable__label {cursor: pointer;display: block;width: 100%;margin-bottom: 0;padding: 0.3em;box-sizing: border-box;text-align: center;}#sk-container-id-3 label.sk-toggleable__label-arrow:before {content: \"▸\";float: left;margin-right: 0.25em;color: #696969;}#sk-container-id-3 label.sk-toggleable__label-arrow:hover:before {color: black;}#sk-container-id-3 div.sk-estimator:hover label.sk-toggleable__label-arrow:before {color: black;}#sk-container-id-3 div.sk-toggleable__content {max-height: 0;max-width: 0;overflow: hidden;text-align: left;background-color: #f0f8ff;}#sk-container-id-3 div.sk-toggleable__content pre {margin: 0.2em;color: black;border-radius: 0.25em;background-color: #f0f8ff;}#sk-container-id-3 input.sk-toggleable__control:checked~div.sk-toggleable__content {max-height: 200px;max-width: 100%;overflow: auto;}#sk-container-id-3 input.sk-toggleable__control:checked~label.sk-toggleable__label-arrow:before {content: \"▾\";}#sk-container-id-3 div.sk-estimator input.sk-toggleable__control:checked~label.sk-toggleable__label {background-color: #d4ebff;}#sk-container-id-3 div.sk-label input.sk-toggleable__control:checked~label.sk-toggleable__label {background-color: #d4ebff;}#sk-container-id-3 input.sk-hidden--visually {border: 0;clip: rect(1px 1px 1px 1px);clip: rect(1px, 1px, 1px, 1px);height: 1px;margin: -1px;overflow: hidden;padding: 0;position: absolute;width: 1px;}#sk-container-id-3 div.sk-estimator {font-family: monospace;background-color: #f0f8ff;border: 1px dotted black;border-radius: 0.25em;box-sizing: border-box;margin-bottom: 0.5em;}#sk-container-id-3 div.sk-estimator:hover {background-color: #d4ebff;}#sk-container-id-3 div.sk-parallel-item::after {content: \"\";width: 100%;border-bottom: 1px solid gray;flex-grow: 1;}#sk-container-id-3 div.sk-label:hover label.sk-toggleable__label {background-color: #d4ebff;}#sk-container-id-3 div.sk-serial::before {content: \"\";position: absolute;border-left: 1px solid gray;box-sizing: border-box;top: 0;bottom: 0;left: 50%;z-index: 0;}#sk-container-id-3 div.sk-serial {display: flex;flex-direction: column;align-items: center;background-color: white;padding-right: 0.2em;padding-left: 0.2em;position: relative;}#sk-container-id-3 div.sk-item {position: relative;z-index: 1;}#sk-container-id-3 div.sk-parallel {display: flex;align-items: stretch;justify-content: center;background-color: white;position: relative;}#sk-container-id-3 div.sk-item::before, #sk-container-id-3 div.sk-parallel-item::before {content: \"\";position: absolute;border-left: 1px solid gray;box-sizing: border-box;top: 0;bottom: 0;left: 50%;z-index: -1;}#sk-container-id-3 div.sk-parallel-item {display: flex;flex-direction: column;z-index: 1;position: relative;background-color: white;}#sk-container-id-3 div.sk-parallel-item:first-child::after {align-self: flex-end;width: 50%;}#sk-container-id-3 div.sk-parallel-item:last-child::after {align-self: flex-start;width: 50%;}#sk-container-id-3 div.sk-parallel-item:only-child::after {width: 0;}#sk-container-id-3 div.sk-dashed-wrapped {border: 1px dashed gray;margin: 0 0.4em 0.5em 0.4em;box-sizing: border-box;padding-bottom: 0.4em;background-color: white;}#sk-container-id-3 div.sk-label label {font-family: monospace;font-weight: bold;display: inline-block;line-height: 1.2em;}#sk-container-id-3 div.sk-label-container {text-align: center;}#sk-container-id-3 div.sk-container {/* jupyter's `normalize.less` sets `[hidden] { display: none; }` but bootstrap.min.css set `[hidden] { display: none !important; }` so we also need the `!important` here to be able to override the default hidden behavior on the sphinx rendered scikit-learn.org. See: https://github.com/scikit-learn/scikit-learn/issues/21755 */display: inline-block !important;position: relative;}#sk-container-id-3 div.sk-text-repr-fallback {display: none;}</style><div id=\"sk-container-id-3\" class=\"sk-top-container\"><div class=\"sk-text-repr-fallback\"><pre>DBSCAN()</pre><b>In a Jupyter environment, please rerun this cell to show the HTML representation or trust the notebook. <br />On GitHub, the HTML representation is unable to render, please try loading this page with nbviewer.org.</b></div><div class=\"sk-container\" hidden><div class=\"sk-item\"><div class=\"sk-estimator sk-toggleable\"><input class=\"sk-toggleable__control sk-hidden--visually\" id=\"sk-estimator-id-3\" type=\"checkbox\" checked><label for=\"sk-estimator-id-3\" class=\"sk-toggleable__label sk-toggleable__label-arrow\">DBSCAN</label><div class=\"sk-toggleable__content\"><pre>DBSCAN()</pre></div></div></div></div></div>"
            ],
            "text/plain": [
              "DBSCAN()"
            ]
          },
          "execution_count": 153,
          "metadata": {},
          "output_type": "execute_result"
        }
      ],
      "source": [
        "from sklearn.cluster import DBSCAN\n",
        "\n",
        "dbscan = DBSCAN(eps=0.5, min_samples=5)\n",
        "dbscan.fit(train_set)"
      ]
    },
    {
      "cell_type": "code",
      "execution_count": 154,
      "id": "2YOz8KmFLe3h",
      "metadata": {
        "id": "2YOz8KmFLe3h"
      },
      "outputs": [],
      "source": [
        "X_cleaned=train_set[dbscan.labels_!=-1]\n",
        "y_cleaned=df['label_encoded'][dbscan.labels_!=-1]"
      ]
    },
    {
      "cell_type": "code",
      "execution_count": 156,
      "id": "4zcERyg0Le3i",
      "metadata": {
        "id": "4zcERyg0Le3i"
      },
      "outputs": [],
      "source": [
        "smote = SMOTE(random_state=42)\n",
        "X_resampled, y_resampled = smote.fit_resample(X_cleaned, y_cleaned)"
      ]
    },
    {
      "cell_type": "code",
      "execution_count": 157,
      "id": "mjpZWUrRLe3j",
      "metadata": {
        "id": "mjpZWUrRLe3j"
      },
      "outputs": [],
      "source": [
        "X_train, X_test, y_train, y_test = train_test_split(X_resampled, y_resampled, test_size=0.25, random_state=42)"
      ]
    },
    {
      "cell_type": "code",
      "execution_count": 158,
      "id": "ZEnCV5G0Le3j",
      "metadata": {
        "id": "ZEnCV5G0Le3j"
      },
      "outputs": [],
      "source": [
        "scaler = RobustScaler()\n",
        "# fit the scaler\n",
        "scaler.fit(X_train)\n",
        "# transform the data\n",
        "X_train = scaler.transform(X_train)\n",
        "X_test = scaler.transform(X_test)"
      ]
    },
    {
      "cell_type": "code",
      "execution_count": 159,
      "id": "q8kdXH6oLe3j",
      "metadata": {
        "colab": {
          "base_uri": "https://localhost:8080/"
        },
        "id": "q8kdXH6oLe3j",
        "outputId": "24a7b7d8-d19d-41ae-f51e-e81b890ffdbf"
      },
      "outputs": [
        {
          "name": "stdout",
          "output_type": "stream",
          "text": [
            "0.8499307381027694\n"
          ]
        }
      ],
      "source": [
        "# gradient boosting model\n",
        "from sklearn.ensemble import GradientBoostingClassifier\n",
        "# create a gradient boosting model with 100 trees\n",
        "gb = GradientBoostingClassifier(n_estimators=100)\n",
        "# fit the model\n",
        "gb.fit(X_train, y_train)\n",
        "# predict the labels\n",
        "y_pred = gb.predict(X_test)\n",
        "# get the accuracy score\n",
        "print(gb.score(X_test, y_test))"
      ]
    },
    {
      "cell_type": "code",
      "execution_count": 160,
      "id": "045BzwNsLe3k",
      "metadata": {
        "colab": {
          "base_uri": "https://localhost:8080/"
        },
        "id": "045BzwNsLe3k",
        "outputId": "07d7293e-c76c-4599-cc49-00fbc564c94f"
      },
      "outputs": [
        {
          "name": "stdout",
          "output_type": "stream",
          "text": [
            "[[81401 10267]\n",
            " [17250 74444]]\n"
          ]
        }
      ],
      "source": [
        "# get the confusion matrix\n",
        "cm = confusion_matrix(y_test, y_pred)\n",
        "print(cm)"
      ]
    },
    {
      "cell_type": "code",
      "execution_count": 161,
      "id": "ZXAHwVnRLe3k",
      "metadata": {
        "colab": {
          "base_uri": "https://localhost:8080/"
        },
        "id": "ZXAHwVnRLe3k",
        "outputId": "58830ddf-c9dc-4837-9740-914912347983"
      },
      "outputs": [
        {
          "name": "stdout",
          "output_type": "stream",
          "text": [
            "              precision    recall  f1-score   support\n",
            "\n",
            "           0       0.83      0.89      0.86     91668\n",
            "           1       0.88      0.81      0.84     91694\n",
            "\n",
            "    accuracy                           0.85    183362\n",
            "   macro avg       0.85      0.85      0.85    183362\n",
            "weighted avg       0.85      0.85      0.85    183362\n",
            "\n"
          ]
        }
      ],
      "source": [
        "# get the classification report\n",
        "print(classification_report(y_test, y_pred))"
      ]
    }
  ],
  "metadata": {
    "colab": {
      "provenance": []
    },
    "kernelspec": {
      "display_name": "Python 3",
      "language": "python",
      "name": "python3"
    },
    "language_info": {
      "codemirror_mode": {
        "name": "ipython",
        "version": 3
      },
      "file_extension": ".py",
      "mimetype": "text/x-python",
      "name": "python",
      "nbconvert_exporter": "python",
      "pygments_lexer": "ipython3",
      "version": "3.8.8"
    }
  },
  "nbformat": 4,
  "nbformat_minor": 5
}
